{
 "cells": [
  {
   "cell_type": "markdown",
   "metadata": {},
   "source": [
    "# Cluster workflow BSG - Hierarchical"
   ]
  },
  {
   "cell_type": "code",
   "execution_count": 6,
   "metadata": {},
   "outputs": [],
   "source": [
    "import pandas as pd\n",
    "import numpy as np\n",
    "from matplotlib import pyplot as plt\n",
    "import obspy\n",
    "import os\n",
    "import sys\n",
    "import h5py\n",
    "import yaml\n",
    "import sys\n",
    "import glob\n",
    "import datetime\n",
    "import matplotlib.gridspec as gridspec\n",
    "\n",
    "from sklearn.cluster import AgglomerativeClustering\n",
    "from scipy.cluster.hierarchy import dendrogram\n",
    "from scipy.cluster import hierarchy\n",
    "\n",
    "sys.path.append('src/')\n",
    "from notebook_functions import lagWF, calcMom, calcRadius, upper_tri_masking, latlon2meter, plotCircle,linearizeFP,plotWF, getWF,calcCCMatrix,getFeatures_Explore\n",
    "from notebook_functions import  plotStem3,plotDepthZoom7,calcCCMatrixFP,calcCCMatrix,plotClusWF4,plotClusWF5,plotCCDistancesfromMat\n",
    "from notebook_functions import plotLocZoom4, formatWS2021,ClusterExpand4,ClusterConverge2,getNumberInWS21,getProportionWS21,RemoveMagnitudes\n",
    "\n",
    "\n",
    "from obspy.signal.cross_correlation import correlate, xcorr_max"
   ]
  },
  {
   "cell_type": "markdown",
   "metadata": {},
   "source": [
    "# Define functions"
   ]
  },
  {
   "cell_type": "code",
   "execution_count": 17,
   "metadata": {},
   "outputs": [],
   "source": [
    "\n",
    "def makeWfTemplate(cat_clus,dataH5_path,station,channel,fmin,fmax,tmin,tmax,fs=100):\n",
    "    \"\"\"\n",
    "    Get largest magnitude event from cluster and get its WF\n",
    "    \"\"\"\n",
    "    \n",
    "    magMax = np.max(cat_clus.magnitude)\n",
    "    \n",
    "    evID = cat_clus[cat_clus.magnitude==magMax].event_ID.iloc[0]\n",
    "    \n",
    "    wf = getWF(evID,dataH5_path,station,channel,fmin,fmax,tmin,tmax,fs)\n",
    "\n",
    "    \n",
    "    return wf\n",
    "    \n",
    "def ClusterConverge3(cat_expanded,dataH5_path,station,channel,fmin,fmax,tmin,tmax,verbose=1):\n",
    "    \n",
    "    # Part 6. Converge clusters\n",
    "\n",
    "    clus_list_all = np.unique(cat_expanded.Cluster)\n",
    "\n",
    "    clus_converge = pd.DataFrame()\n",
    "\n",
    "    for i, clus in enumerate(clus_list_all):\n",
    "\n",
    "        if verbose:\n",
    "            if i%10==0:\n",
    "                print(i,'/',len(clus_list_all))\n",
    "\n",
    "         ## get df of clusters   \n",
    "        cat_clusA = cat_expanded[cat_expanded.Cluster==clus]\n",
    "\n",
    "        ## Location Centroid\n",
    "        lon_ar = np.array(cat_clusA.long)\n",
    "        lat_ar = np.array(cat_clusA.lat)\n",
    "        centroidA = (np.median(lat_ar),np.median(lon_ar))\n",
    "        \n",
    "        magA = np.median(cat_clusA.magnitude)\n",
    "\n",
    "        for j, clus in enumerate(clus_list_all):\n",
    "            if i!= j:\n",
    "                \n",
    "                \n",
    "                cat_clusB = cat_expanded[cat_expanded.Cluster==clus]\n",
    "\n",
    "                \n",
    "                magB = np.median(cat_clusB.magnitude)\n",
    "                \n",
    "                \n",
    "                if np.abs(magA-magB) <= .3:\n",
    "\n",
    "\n",
    "                    ## Location Centroid\n",
    "                    lon_ar = np.array(cat_clusB.long)\n",
    "                    lat_ar = np.array(cat_clusB.lat)\n",
    "                    centroidB = (np.median(lat_ar),np.median(lon_ar))   \n",
    "\n",
    "                    centroid_dist_m = latlon2meter((centroidA[0],centroidA[1]),(centroidB[0],centroidB[1]))## args in lat lon\n",
    "\n",
    "                    med_mag = np.median([np.median(cat_clusA.magnitude),np.median(cat_clusB.magnitude)])\n",
    "\n",
    "                    dist_thresh = calcRadius(med_mag)\n",
    "\n",
    "                    if centroid_dist_m < dist_thresh: #m            \n",
    "\n",
    "                        wf_A = makeWfTemplate(cat_clusA,dataH5_path,station,channel,fmin,fmax,tmin,tmax)\n",
    "                        wf_B = makeWfTemplate(cat_clusB,dataH5_path,station,channel,fmin,fmax,tmin,tmax)\n",
    "\n",
    "                        cc = correlate(wf_A, wf_B, 1000)\n",
    "                        lag, max_cc = xcorr_max(cc)\n",
    "\n",
    "                        if max_cc >= .95:\n",
    "        #                     print('adding cluster', clus)\n",
    "                            clusA = cat_clusA.Cluster.iloc[0]\n",
    "                            cat_clusA = cat_clusA.append(cat_clusB)\n",
    "                            cat_clusA.loc[:,'Cluster'] = clusA\n",
    "\n",
    "\n",
    "                    clus_converge = clus_converge.append(cat_clusA).drop_duplicates('event_ID')    \n",
    "\n",
    "    print('converged')\n",
    "    return clus_converge\n",
    "\n"
   ]
  },
  {
   "cell_type": "markdown",
   "metadata": {},
   "source": [
    "# Set parameteres and paths"
   ]
  },
  {
   "cell_type": "code",
   "execution_count": 9,
   "metadata": {},
   "outputs": [],
   "source": [
    "\n",
    "#quarter pagea\n",
    "width1 = 3.74016\n",
    "height1 = 4.52756\n",
    "\n",
    "#full page\n",
    "width2 = 7.48031\n",
    "height2 = 9.05512"
   ]
  },
  {
   "cell_type": "code",
   "execution_count": 18,
   "metadata": {},
   "outputs": [],
   "source": [
    "lenData = 1000 #samples\n",
    "\n",
    "yamlPath = \"./SA_REQS_BSG.yaml\"\n",
    "with open(yamlPath) as stream:\n",
    "    config = yaml.safe_load(stream)\n",
    "    \n",
    "    \n",
    "path_config = config[\"paths\"]\n",
    "key = path_config[\"key\"]\n",
    "data_config = config['dataParams']\n",
    "station = data_config[\"station\"]\n",
    "channel = data_config[\"channel\"]\n",
    "channel_ID = data_config[\"channel_ID\"]\n",
    "sampling_rate = data_config[\"sampling_rate\"]\n",
    "\n",
    "# build path strings\n",
    "dataH5_name = f'data_{key}.h5'\n",
    "projectPath = path_config[\"projectPath\"]\n",
    "pathCatFold = path_config[\"pathCatFold\"]\n",
    "\n",
    "\n",
    "pathWF = path_config[\"pathWF\"]\n",
    "wf_cat_out_path = projectPath + f'{key}_wf_cat_out.csv'\n",
    "\n",
    "if not os.path.isdir(projectPath + 'data/H5files/'):\n",
    "    os.mkdir(projectPath + 'data/H5files/')\n",
    "    \n",
    "dataH5_path = projectPath + 'data/H5files/' + dataH5_name\n",
    "    \n",
    "sgram_config = config[\"sgramParams\"]\n",
    "nfft = sgram_config[\"nfft\"]\n",
    "fmin, fmax = sgram_config[\"fmin\"], sgram_config[\"fmax\"]\n",
    "tmin, tmax = sgram_config[\"tmin\"], sgram_config[\"tmax\"]\n",
    "\n",
    "SpecUFEx_H5_name = 'SpecUFEx_' + path_config[\"h5name\"] #f'SpecUFEx_{key}.hdf5'\n",
    "SpecUFEx_H5_path = projectPath + 'data/H5files/' + SpecUFEx_H5_name\n",
    "\n",
    "\n",
    "pathWf_cat  = projectPath + 'wf_cat_out.csv'\n",
    "\n",
    "# get sgram params\n",
    "with h5py.File(dataH5_path,'r+') as fileLoad:\n",
    "    # ## sampling rate, Hz\n",
    "    fs = fileLoad[f\"{station}/processing_info\"].get('sampling_rate_Hz')[()]\n",
    "    # ##number of datapoints\n",
    "    lenData = fileLoad[f\"{station}/processing_info\"].get('lenData')[()]\n",
    "    \n",
    "##spectrogram parameters, see https://docs.scipy.org/doc/scipy/reference/generated/scipy.signal.spectrogram.html\n",
    "nperseg = int(sgram_config[\"winLen_Sec\"]*fs) #datapoints per window segment\n",
    "noverlap = int(nperseg*sgram_config[\"fracOverlap\"])  #fraction of window overlapped  \n",
    "\n",
    "#padding must be longer than n per window segment\n",
    "if nfft < nperseg:\n",
    "    nfft = nperseg*2\n",
    "    print(\"nfft too short; changing to \", nfft)\n",
    "\n",
    "mode='magnitude'\n",
    "scaling='spectrum'\n",
    "\n",
    "# set args for generator\n",
    "args = {'station':station,\n",
    "        'channel':channel,\n",
    "        'fs': fs,\n",
    "        'lenData': lenData,\n",
    "        'nperseg': nperseg,\n",
    "        'noverlap': noverlap,\n",
    "        'nfft': nfft,\n",
    "        'mode': mode,\n",
    "        'scaling': scaling,\n",
    "        'fmin': fmin,\n",
    "        'fmax': fmax,\n",
    "        'tmin':tmin,\n",
    "        'tmax':tmax}"
   ]
  },
  {
   "cell_type": "markdown",
   "metadata": {},
   "source": [
    "# Load SpecUFEx catalog"
   ]
  },
  {
   "cell_type": "code",
   "execution_count": 12,
   "metadata": {},
   "outputs": [
    {
     "data": {
      "text/plain": [
       "3637"
      ]
     },
     "execution_count": 12,
     "metadata": {},
     "output_type": "execute_result"
    }
   ],
   "source": [
    "cat_keep_sgram = pd.read_csv(pathCatFold + f'{key}_cat_keep_sgram.csv')\n",
    "\n",
    "\n",
    "len(cat_keep_sgram)\n"
   ]
  },
  {
   "cell_type": "markdown",
   "metadata": {},
   "source": [
    "# Load NCEDC and WS2021 catalogs"
   ]
  },
  {
   "cell_type": "code",
   "execution_count": 15,
   "metadata": {},
   "outputs": [
    {
     "data": {
      "text/plain": [
       "'73321901'"
      ]
     },
     "execution_count": 15,
     "metadata": {},
     "output_type": "execute_result"
    }
   ],
   "source": [
    "cat_NCSN = pd.read_csv('../data/catalogs/NCADDiff_5km_2019_500mFault_WS21.csv')\n",
    "\n",
    "str(cat_NCSN.event_ID.iloc[-1]) "
   ]
  },
  {
   "cell_type": "code",
   "execution_count": 16,
   "metadata": {},
   "outputs": [
    {
     "name": "stdout",
     "output_type": "stream",
     "text": [
      "27674 repeater earthquakes in 7714  sequences\n",
      "1024\n"
     ]
    }
   ],
   "source": [
    "pathCat = '../data/catalogs/NCA_REPQcat_20210919_noMeta_v2.csv'\n",
    "\n",
    "cat_rep_2014_df =  formatWS2021(pathCat)\n",
    "\n",
    "cat_WS21 = cat_NCSN[cat_NCSN.event_ID.astype('int').isin(list(cat_rep_2014_df.event_ID))]\n",
    "\n",
    "print(len(cat_WS21))"
   ]
  },
  {
   "cell_type": "markdown",
   "metadata": {},
   "source": [
    "# Linearize FPs"
   ]
  },
  {
   "cell_type": "code",
   "execution_count": 7,
   "metadata": {},
   "outputs": [
    {
     "name": "stdout",
     "output_type": "stream",
     "text": [
      "(3637, 225)\n"
     ]
    }
   ],
   "source": [
    "ev_IDs = list(cat_keep_sgram.event_ID)\n",
    "\n",
    "\n",
    "X = linearizeFP(SpecUFEx_H5_path,ev_IDs) #event IDs needed to get fp from H5\n",
    "\n",
    "\n",
    "\n",
    "col_names = ['fp' + str(a) for a in range(X.shape[1])]\n",
    "col_names[-1]\n",
    "\n",
    "fp_df = pd.DataFrame(X,columns=col_names)\n",
    "fp_df['ev_ID'] = [str(ev) for ev in ev_IDs]\n",
    "fp_df['event_ID'] = [str(ev) for ev in ev_IDs]\n",
    "\n",
    "# format event IDs and add lat lon etc to fingerprint catalog\n",
    "cat_keep_sgram['event_ID'] = [str(ev) for ev in cat_keep_sgram.event_ID]\n",
    "fp_df = fp_df.merge(cat_keep_sgram,on='event_ID',suffixes=['','_y'])\n",
    "\n",
    "N = len(fp_df)\n",
    "\n",
    "print(X.shape)\n"
   ]
  },
  {
   "cell_type": "code",
   "execution_count": 8,
   "metadata": {},
   "outputs": [
    {
     "data": {
      "text/plain": [
       "19"
      ]
     },
     "execution_count": 8,
     "metadata": {},
     "output_type": "execute_result"
    }
   ],
   "source": [
    "N_list = np.arange(800,N,150)\n",
    "len(N_list)"
   ]
  },
  {
   "cell_type": "code",
   "execution_count": 9,
   "metadata": {},
   "outputs": [],
   "source": [
    "def latlon2meter_vec(coords1, coords2):\n",
    "    # Vectorize distance calculation using numpy broadcasting\n",
    "    lat1, lon1 = np.radians(coords1)\n",
    "    lat2, lon2 = np.radians(coords2)\n",
    "    dlat = lat2 - lat1\n",
    "    dlon = lon2 - lon1\n",
    "    a = (np.sin(dlat/2)**2 + np.cos(lat1) * np.cos(lat2) * np.sin(dlon/2)**2)\n",
    "    c = 2 * np.arctan2(np.sqrt(a), np.sqrt(1-a))\n",
    "    distance = 6371000 * c\n",
    "    return distance"
   ]
  },
  {
   "cell_type": "code",
   "execution_count": null,
   "metadata": {},
   "outputs": [],
   "source": []
  },
  {
   "cell_type": "code",
   "execution_count": 10,
   "metadata": {},
   "outputs": [
    {
     "name": "stdout",
     "output_type": "stream",
     "text": [
      "N: 800\n",
      "num crit events: 2207\n",
      "done\n",
      "expanded num crit events: 2374\n",
      "N: 950\n",
      "num crit events: 2279\n",
      "done\n",
      "expanded num crit events: 2437\n",
      "N: 1100\n",
      "num crit events: 2349\n",
      "done\n",
      "expanded num crit events: 2513\n",
      "N: 1250\n",
      "num crit events: 2393\n",
      "done\n",
      "expanded num crit events: 2547\n",
      "N: 1400\n",
      "num crit events: 2397\n",
      "done\n",
      "expanded num crit events: 2538\n",
      "N: 1550\n",
      "num crit events: 2369\n",
      "done\n",
      "expanded num crit events: 2516\n",
      "N: 1700\n",
      "num crit events: 2296\n",
      "done\n",
      "expanded num crit events: 2453\n",
      "N: 1850\n",
      "num crit events: 2232\n",
      "done\n",
      "expanded num crit events: 2393\n",
      "N: 2000\n",
      "num crit events: 2162\n",
      "done\n",
      "expanded num crit events: 2339\n",
      "N: 2150\n",
      "num crit events: 2033\n",
      "done\n",
      "expanded num crit events: 2233\n",
      "N: 2300\n",
      "num crit events: 1904\n",
      "done\n",
      "expanded num crit events: 2122\n",
      "N: 2450\n",
      "num crit events: 1754\n",
      "done\n",
      "expanded num crit events: 1989\n",
      "N: 2600\n",
      "num crit events: 1583\n",
      "done\n",
      "expanded num crit events: 1832\n",
      "N: 2750\n",
      "num crit events: 1389\n",
      "done\n",
      "expanded num crit events: 1621\n",
      "N: 2900\n",
      "num crit events: 1195\n",
      "done\n",
      "expanded num crit events: 1409\n",
      "N: 3050\n",
      "num crit events: 989\n",
      "done\n",
      "expanded num crit events: 1213\n",
      "N: 3200\n",
      "num crit events: 757\n",
      "done\n",
      "expanded num crit events: 970\n",
      "N: 3350\n",
      "num crit events: 513\n",
      "done\n",
      "expanded num crit events: 680\n",
      "N: 3500\n",
      "num crit events: 253\n",
      "done\n",
      "expanded num crit events: 345\n",
      "doneDONEdone\n"
     ]
    }
   ],
   "source": [
    "\n",
    "\n",
    "Nclus_list = []\n",
    "Ncrit_clus_list = []\n",
    "Ncrit_cat_list = []\n",
    "Ncrit_ev_list = []\n",
    "k_list  = []\n",
    "Ncrit_ev_list_exp = []\n",
    "Ncrit_cat_list_exp = []\n",
    "Ncrit_cat_list_conv = []\n",
    "\n",
    "# for dT_test in dT_list:\n",
    "for n in N_list:\n",
    "    model = AgglomerativeClustering(distance_threshold=None, \n",
    "                                n_clusters=n,\n",
    "                                linkage='ward')\n",
    "\n",
    "    cluster_labels_best = model.fit_predict(X)\n",
    "\n",
    "    Z = hierarchy.linkage(model.children_, 'ward')\n",
    "\n",
    "    nClust = len(np.unique(cluster_labels_best))\n",
    "    Nclus_list.append(nClust)\n",
    "    print('N:', n)\n",
    "\n",
    "    fp_df['Cluster'] = cluster_labels_best\n",
    "\n",
    "\n",
    "\n",
    "\n",
    "    ########################################################  \n",
    "\n",
    "\n",
    "\n",
    "\n",
    "######## Check each cluster for criteria ##########################################\n",
    "######### Check each cluster for criteria ##########################################\n",
    "######### Check each cluster for criteria ##########################################\n",
    "\n",
    "\n",
    "    Nclus = len(np.unique(cluster_labels_best))\n",
    "\n",
    "    repeater_clus = []\n",
    "    catAllClusAll = pd.DataFrame()\n",
    "\n",
    "    # Cache median longitude and latitude outside of the loop\n",
    "    lon_all = np.array(fp_df.long)\n",
    "    lat_all = np.array(fp_df.lat)\n",
    "\n",
    "    for i, clus in enumerate(range(Nclus)):\n",
    "\n",
    "        catAllClus_full = fp_df.where(fp_df.Cluster==clus).dropna()\n",
    "        catAllClus = RemoveMagnitudes(catAllClus_full, verbose=0)\n",
    "\n",
    "        if len(catAllClus) >= 2:\n",
    "\n",
    "            lon_ar = np.array(catAllClus.long)\n",
    "            lat_ar = np.array(catAllClus.lat)\n",
    "\n",
    "            # Cache centroid calculation\n",
    "            centroid_lat = np.median(lat_ar)\n",
    "            centroid_lon = np.median(lon_ar)\n",
    "            centroid = (centroid_lat, centroid_lon)\n",
    "\n",
    "            # Vectorize distance calculation\n",
    "            dist_m_list = latlon2meter_vec((lat_ar, lon_ar), centroid)\n",
    "\n",
    "            mag_max = np.max(catAllClus.magnitude)        \n",
    "            r_m = calcRadius(mag_max)\n",
    "\n",
    "            if np.max(dist_m_list) <= r_m*2:\n",
    "\n",
    "                #keep cluster!!\n",
    "                repeater_clus.append(clus)\n",
    "\n",
    "                catAllClusAll = catAllClusAll.append(catAllClus) \n",
    "                Kopt = len(repeater_clus)   \n",
    "            else:\n",
    "                Kopt = 0 \n",
    "\n",
    "    Ncrit_clus_list.append(Kopt)\n",
    "    Ncrit_ev_list.append(len(catAllClusAll))\n",
    "    Ncrit_cat_list.append(catAllClusAll)    \n",
    "    print('num crit events:', len(catAllClusAll))\n",
    "\n",
    "    clust_expanded = ClusterExpand4(catAllClusAll, fp_df,lenData,dataH5_path, station,channel,fmin,fmax,tmin,tmax,sampling_rate,verbose=0)\n",
    "\n",
    "    Ncrit_ev_list_exp.append(len(clust_expanded))    \n",
    "    Ncrit_cat_list_exp.append(clust_expanded)\n",
    "    print('expanded num crit events:', len(clust_expanded))\n",
    "    \n",
    "    \n",
    "#     clust_converged = ClusterConverge2(clust_expanded,dataH5_path,station,channel,fmin,fmax,tmin,tmax,verbose=0)\n",
    "\n",
    "#     Ncrit_cat_list_conv.append(clust_converged)\n",
    "#     print('converged num crit events:', len(clust_converged))    \n",
    "    \n",
    "\n",
    "os.system(\"say 'program complete'\")\n",
    "print('doneDONEdone')"
   ]
  },
  {
   "cell_type": "code",
   "execution_count": null,
   "metadata": {},
   "outputs": [],
   "source": []
  },
  {
   "cell_type": "code",
   "execution_count": 11,
   "metadata": {},
   "outputs": [
    {
     "data": {
      "image/png": "[encoded data removed]",
      "text/plain": [
       "<Figure size 432x288 with 1 Axes>"
      ]
     },
     "metadata": {
      "needs_background": "light"
     },
     "output_type": "display_data"
    }
   ],
   "source": [
    "### Plot Proportions\n",
    "\n",
    "NWS21 = len(cat_WS21)\n",
    "cat_WS21.event_ID = cat_WS21.event_ID.astype(str)\n",
    "\n",
    "prop_list = [NWS21*getProportionWS21(Ncrit_cat_list[i].drop_duplicates('event_ID'),cat_WS21) for i in range(len(Ncrit_cat_list))]\n",
    "\n",
    "plt.figure()\n",
    "\n",
    "# arg_star = np.argwhere(Ncrit_ev_list==np.max(Ncrit_ev_list))[0][0]\n",
    "arg_star = np.argwhere(Ncrit_ev_list_exp==np.max(Ncrit_ev_list_exp))[0][0]\n",
    "\n",
    "arg_star2 = np.argwhere(prop_list==np.max(prop_list))[0][0]\n",
    "\n",
    "\n",
    "\n",
    "Nstar = N_list[arg_star]\n",
    "\n",
    "\n",
    "plt.plot(N_list,Ncrit_ev_list,'k:',marker='o')\n",
    "plt.plot(N_list,Ncrit_ev_list_exp,'r:',marker='o')\n",
    "\n",
    "\n",
    "plt.plot(N_list,prop_list,'b:',marker='o')\n",
    "\n",
    "ax = plt.gca()\n",
    "ax.axhline(NWS21,color='b',ls='--')\n",
    "ax.axvline(Nstar)\n",
    "\n",
    "\n",
    "\n",
    "ax.set_xlabel('Number of clusters')\n",
    "ax.set_ylabel('Number of criteria events')\n",
    "plt.title(f\"{station}\")\n",
    "plt.savefig(f\"../reports/figures/clustering_paramSearch_{station}_updatedCat.png\")\n",
    "\n",
    "\n",
    "\n"
   ]
  },
  {
   "cell_type": "code",
   "execution_count": null,
   "metadata": {},
   "outputs": [],
   "source": []
  },
  {
   "cell_type": "code",
   "execution_count": 12,
   "metadata": {},
   "outputs": [
    {
     "name": "stdout",
     "output_type": "stream",
     "text": [
      "converged\n",
      "done\n"
     ]
    }
   ],
   "source": [
    "\n",
    "\n",
    "\n",
    "\n",
    "cat_star_expand = Ncrit_cat_list_exp[arg_star]\n",
    "cat_star_converged = ClusterConverge3(cat_star_expand,dataH5_path,station,channel,fmin,fmax,tmin,tmax,verbose=0)\n",
    "cat_star_converged.to_csv(f\"../data/catalogs/{key}_updatedCat_MaxExp_WSloc_2.csv\")\n",
    "\n",
    "\n",
    "os.system(\"say 'program complete'\")\n",
    "print('done')\n"
   ]
  },
  {
   "cell_type": "code",
   "execution_count": null,
   "metadata": {},
   "outputs": [],
   "source": []
  }
 ],
 "metadata": {
  "kernelspec": {
   "display_name": "Python 3",
   "language": "python",
   "name": "python3"
  },
  "language_info": {
   "codemirror_mode": {
    "name": "ipython",
    "version": 3
   },
   "file_extension": ".py",
   "mimetype": "text/x-python",
   "name": "python",
   "nbconvert_exporter": "python",
   "pygments_lexer": "ipython3",
   "version": "3.7.8"
  }
 },
 "nbformat": 4,
 "nbformat_minor": 4
}
