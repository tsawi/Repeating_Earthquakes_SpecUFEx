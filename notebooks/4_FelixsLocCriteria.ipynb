{
 "cells": [
  {
   "cell_type": "markdown",
   "id": "5242204e",
   "metadata": {},
   "source": [
    "# Translate Felix's Location Criteria"
   ]
  },
  {
   "cell_type": "code",
   "execution_count": 4,
   "id": "446c0a3a",
   "metadata": {},
   "outputs": [],
   "source": [
    "import pandas as pd\n",
    "import warnings\n",
    "warnings.filterwarnings(\"ignore\",category=Warning)\n",
    "\n",
    "\n",
    "import numpy as np\n",
    "from matplotlib import pyplot as plt\n",
    "import haversine\n",
    "import scipy\n",
    "import sys\n",
    "sys.path.append('src/')\n",
    "\n",
    "from notebook_functions import GradeLocErrorLatLon, GradeLocErrorMeters\n",
    "from notebook_functions import calcRadius,calcDfStats, formatWS2021, plotLocZoomMeters,plotLocLatLonError,plotDepthLatLonError,plotDepthZoomMeters,latlon2meter, meters2deg, getProportionWS21\n",
    "from notebook_functions import plotLocZoom5, plotDepthZoom8,plotDepthZoomMeters, plotLocZoomMeters, RemoveMagnitudes\n",
    "from notebook_functions import latlon2meter\n"
   ]
  },
  {
   "cell_type": "code",
   "execution_count": 2,
   "id": "fde46211",
   "metadata": {},
   "outputs": [],
   "source": [
    "\n",
    "\n",
    "def GradeFelLocErrorLatLon(cat,verbose=0,plot=0):\n",
    "\n",
    "\n",
    "\n",
    "    passed_num = 0\n",
    "    grade_list = []\n",
    "    grade_list_allevents = []\n",
    "\n",
    "    cat_reloc_graded = pd.DataFrame()\n",
    "\n",
    "    for clus in np.unique(cat.Cluster_2):\n",
    "\n",
    "        if verbose:    \n",
    "            print(f\"Cluster {clus}\")    \n",
    "\n",
    "        df_cl = cat[cat.Cluster_2==clus]\n",
    "\n",
    "\n",
    "        df_cl['depth_m'] = [1000 * d for d in df_cl.depth_km]\n",
    "\n",
    "        depth_m = np.array(df_cl.depth_m)\n",
    "        lon = np.array(df_cl.long)\n",
    "        lat = np.array(df_cl.lat)        \n",
    "        med_lat = np.median(df_cl.lat)\n",
    "\n",
    "        ##get radius\n",
    "        mag_max = np.max(df_cl.magnitude)\n",
    "        r_m = calcRadius(mag_max+.1)\n",
    "\n",
    "\n",
    "        ## Get loc errors\n",
    "        minlocerr_km = 0.01; #% average min location error added to the rupture area (in km).\n",
    "        minlocerr_m = minlocerr_km *1000      \n",
    "        df_cl['locerr'] = [np.max([dX,dY,dZ,minlocerr_m]) for dX,dY,dZ in zip(df_cl.dX, df_cl.dY, df_cl.dZ)]\n",
    "\n",
    "        dist_rows = []\n",
    "        itake1 = 1\n",
    "\n",
    "        for j in range(len(df_cl)):\n",
    "            dist_epi_m       = [haversine.haversine([lat[j],lon[j]],[llat,llong],unit='m') for llat,llong in zip(df_cl.lat,df_cl.long)]\n",
    "            dist_depth_m     = [(depth_m[j] - z) for z in df_cl.depth_m]\n",
    "            dist_row         = [np.sqrt(d**2 + z**2) for d,z in zip(dist_epi_m, dist_depth_m)]\n",
    "\n",
    "            if j==0:\n",
    "                dist_rows = dist_row\n",
    "            else:\n",
    "                dist_rows = np.vstack([dist_rows,dist_row])\n",
    "\n",
    "\n",
    "            inside = dist_rows < (r_m + df_cl.locerr.iloc[j])        \n",
    "\n",
    "        # print(inside)\n",
    "        if np.min(inside)==0:\n",
    "            itake1=0\n",
    "            passed = 0\n",
    "\n",
    "        if(itake1==1):\n",
    "            passed=1\n",
    "            passed_num +=1\n",
    "\n",
    "\n",
    "\n",
    "\n",
    "\n",
    "\n",
    "\n",
    "\n",
    "\n",
    "\n",
    "\n",
    "\n",
    "\n",
    "        if verbose:    \n",
    "            print(f\"Cluster {clus}; Passed? {passed}\")\n",
    "\n",
    "        grade_list.append(passed)\n",
    "        [grade_list_allevents.append(passed) for a in range(len(df_cl))]          \n",
    "        cat_reloc_graded = cat_reloc_graded.append(df_cl)\n",
    "\n",
    "\n",
    "\n",
    "        if plot:\n",
    "\n",
    "\n",
    "            fig, axes = plt.subplots(ncols=2,figsize=(6,4))\n",
    "            plt.subplots_adjust(wspace=.5)\n",
    "\n",
    "            axes[0].axis('equal')\n",
    "\n",
    "            ## plot cluster\n",
    "            plotLocLatLonError(df_cl,df_cl,fontsize=16,ax=axes[0])     \n",
    "\n",
    "\n",
    "            plotDepthLatLonError(df_cl,df_cl,fontsize=16,ax=axes[1]) \n",
    "            axes[1].set_aspect(meters2deg(1,med_lat))\n",
    "\n",
    "\n",
    "            ## plot cluster boundary \n",
    "            if passed:\n",
    "                axes[0].set_title(f\"Passed?:{passed}\", color='green')\n",
    "\n",
    "            else:\n",
    "                axes[0].set_title(f\"Passed?:{passed}\", color='red')\n",
    "\n",
    "\n",
    "            axes[1].set_title(f\"Cl:{clus}\")        \n",
    "\n",
    "            axes[0].grid('on')\n",
    "            axes[1].grid('on')        \n",
    "            axes[0].xaxis.set_major_formatter(FormatStrFormatter('%.2f'))\n",
    "            axes[1].xaxis.set_major_formatter(FormatStrFormatter('%.2f'))        \n",
    "            axes[0].yaxis.set_major_formatter(FormatStrFormatter('%.2f'))        \n",
    "\n",
    "\n",
    "    cat_reloc_graded['Grade'] = grade_list_allevents\n",
    "\n",
    "    print(len(cat),len(cat_reloc_graded[cat_reloc_graded.Grade==1]))\n",
    "\n",
    "    cat_reloc_passed = cat_reloc_graded[cat_reloc_graded.Grade==1]\n",
    "    return cat_reloc_passed\n",
    "\n",
    "\n",
    "def GradeFelLocErrorLatLonRem(cat,verbose=0,plot=0, remove_events=1):\n",
    "\n",
    "\n",
    "\n",
    "    passed_num = 0\n",
    "    grade_list = []\n",
    "    grade_list_allevents = []\n",
    "\n",
    "    cat_reloc_graded = pd.DataFrame()\n",
    "\n",
    "    for clus in np.unique(cat.Cluster_2):\n",
    "\n",
    "        if verbose:    \n",
    "            print(f\"Cluster {clus}\")    \n",
    "\n",
    "        df_cl = cat[cat.Cluster_2==clus]\n",
    "\n",
    "\n",
    "        df_cl['depth_m'] = [1000 * d for d in df_cl.depth_km]\n",
    "\n",
    "        depth_m = np.array(df_cl.depth_m)\n",
    "        lon = np.array(df_cl.long)\n",
    "        lat = np.array(df_cl.lat)        \n",
    "        med_lat = np.median(df_cl.lat)\n",
    "        mag = np.array(df_cl.magnitude)\n",
    "\n",
    "        ##get radius\n",
    "        mag_max = np.max(df_cl.magnitude)\n",
    "        r_m = calcRadius(mag_max+.1)\n",
    "\n",
    "\n",
    "        ## Get loc errors\n",
    "        minlocerr_km = 0.01; #% average min location error added to the rupture area (in km).\n",
    "        minlocerr_m = minlocerr_km *1000      \n",
    "        df_cl['locerr'] = [np.max([dX,dY,dZ,minlocerr_m]) for dX,dY,dZ in zip(df_cl.dX, df_cl.dY, df_cl.dZ)]\n",
    "\n",
    "        dist_rows = []\n",
    "        itake1 = 1\n",
    "\n",
    "        for j in range(len(df_cl)):\n",
    "            dist_epi_m       = [haversine.haversine([lat[j],lon[j]],[llat,llong],unit='m') for llat,llong in zip(df_cl.lat,df_cl.long)]\n",
    "            dist_depth_m     = [(depth_m[j] - z) for z in df_cl.depth_m]\n",
    "            dist_row         = [np.sqrt(d**2 + z**2) for d,z in zip(dist_epi_m, dist_depth_m)]            \n",
    "            \n",
    "            inside = dist_row < (calcRadius(mag[j]+.1) + df_cl.locerr.iloc[j]) \n",
    "            \n",
    "                \n",
    "            if j==0:\n",
    "                inside_all = inside\n",
    "            else:\n",
    "                inside_all = np.vstack([inside_all,inside])\n",
    "\n",
    "\n",
    "        # print(inside)\n",
    "        if np.min(inside_all)==0:\n",
    "            itake1=0\n",
    "            passed = 0\n",
    "\n",
    "        if(itake1==1):\n",
    "            passed=1\n",
    "            passed_num +=1\n",
    "\n",
    "\n",
    "\n",
    "\n",
    "\n",
    "\n",
    "\n",
    "\n",
    "\n",
    "\n",
    "\n",
    "\n",
    "\n",
    "        if verbose:    \n",
    "            print(f\"Cluster {clus}; Passed? {passed}\")\n",
    "\n",
    "        grade_list.append(passed)\n",
    "        [grade_list_allevents.append(passed) for a in range(len(df_cl))]          \n",
    "        cat_reloc_graded = cat_reloc_graded.append(df_cl)\n",
    "\n",
    "\n",
    "\n",
    "        if plot:\n",
    "\n",
    "\n",
    "            fig, axes = plt.subplots(ncols=2,figsize=(6,4))\n",
    "            plt.subplots_adjust(wspace=.5)\n",
    "\n",
    "            axes[0].axis('equal')\n",
    "\n",
    "            ## plot cluster\n",
    "            plotLocLatLonError(df_cl,df_cl,fontsize=16,ax=axes[0])     \n",
    "\n",
    "\n",
    "            plotDepthLatLonError(df_cl,df_cl,fontsize=16,ax=axes[1]) \n",
    "            axes[1].set_aspect(meters2deg(1,med_lat))\n",
    "\n",
    "\n",
    "            ## plot cluster boundary \n",
    "            if passed:\n",
    "                axes[0].set_title(f\"Passed?:{passed}\", color='green')\n",
    "\n",
    "            else:\n",
    "                axes[0].set_title(f\"Passed?:{passed}\", color='red')\n",
    "\n",
    "\n",
    "            axes[1].set_title(f\"Cl:{clus}\")        \n",
    "\n",
    "            axes[0].grid('on')\n",
    "            axes[1].grid('on')        \n",
    "            axes[0].xaxis.set_major_formatter(FormatStrFormatter('%.2f'))\n",
    "            axes[1].xaxis.set_major_formatter(FormatStrFormatter('%.2f'))        \n",
    "            axes[0].yaxis.set_major_formatter(FormatStrFormatter('%.2f'))        \n",
    "\n",
    "\n",
    "    cat_reloc_graded['Grade'] = grade_list_allevents\n",
    "\n",
    "    print(len(cat),len(cat_reloc_graded[cat_reloc_graded.Grade==1]))\n",
    "\n",
    "    cat_reloc_passed = cat_reloc_graded[cat_reloc_graded.Grade==1]\n",
    "    return cat_reloc_passed\n",
    "\n",
    "\n",
    "\n",
    "def removeOutside(df_cl):\n",
    "\n",
    "    numFalse = 0\n",
    "\n",
    "    (latc,longc) = (np.median(df_cl.lat),np.median(df_cl.long))\n",
    "    df_cl_med_depth_m = np.median(df_cl.depth_km)*1000\n",
    "    med_error = np.max([10,np.median(df_cl.locerr)])\n",
    "    \n",
    "    dist_row = [np.sqrt( latlon2meter((latc,longc),(df_cl.lat.iloc[i],df_cl.long.iloc[i]))**2 + (df_cl.depth_km.iloc[i]*1000-df_cl_med_depth_m)**2 ) for i in range(len(df_cl))]\n",
    "    inside = np.array(dist_row) < dist + med_error\n",
    "    df_cl_inside = df_cl[inside]\n",
    "    numFalse = len(inside[inside==False])\n",
    "    \n",
    "    \n",
    "def removeOutsideMeters(df_cl):\n",
    "\n",
    "    numFalse = 0\n",
    "\n",
    "    (Xc,Yc,Zc) = (np.median(df_cl.X),np.median(df_cl.Y),np.median(df_cl.Z))\n",
    "\n",
    "    med_error = np.max([10,np.median(df_cl.locerr)])\n",
    "    \n",
    "    dist_row = [np.sqrt( (Xc-df_cl.X.iloc[i])**2 + (Yc-df_cl.Y.iloc[i])**2 + (Zc-df_cl.Z.iloc[i])**2 ) for i in range(len(df_cl))]\n",
    "    \n",
    "    inside = np.array(dist_row) < (dist + med_error)\n",
    "    \n",
    "    df_cl_inside = df_cl[inside]\n",
    "    \n",
    "    numFalse = len(inside[inside==False])    \n",
    "\n",
    "\n",
    "\n",
    "#     print(numFalse)\n",
    "\n",
    "    return df_cl_inside, numFalse\n",
    "\n",
    "\n",
    "def removeOutsideMetersNoRID(df_cl):\n",
    "\n",
    "    numFalse = 0\n",
    "    \n",
    "    (Xc,Yc,Zc) = (np.median(df_cl.X),np.median(df_cl.Y),np.median(df_cl.Z))\n",
    "\n",
    "    med_error = np.max([10,np.median(df_cl.locerr)])\n",
    "    \n",
    "    dist_row = []\n",
    "    \n",
    "    for i in range(len(df_cl)):\n",
    "        \n",
    "        if df_cl.RID.iloc[i]=='0':\n",
    "    \n",
    "            dist_row.append(np.sqrt( (Xc-df_cl.X.iloc[i])**2 + (Yc-df_cl.Y.iloc[i])**2 + (Zc-df_cl.Z.iloc[i])**2 ))\n",
    "        else:\n",
    "            dist_row.append(0)\n",
    "    \n",
    "    inside = np.array(dist_row) < (dist + med_error)\n",
    "    \n",
    "    df_cl_inside = df_cl[inside]\n",
    "    \n",
    "    numFalse = len(inside[inside==False])    \n",
    "\n",
    "\n",
    "\n",
    "#     print(numFalse)\n",
    "\n",
    "    return df_cl_inside, numFalse\n"
   ]
  },
  {
   "cell_type": "code",
   "execution_count": 6,
   "id": "7233e22d",
   "metadata": {},
   "outputs": [],
   "source": [
    "cat_NCSN = pd.read_csv('../data/catalogs/NCADDiff_5km_2019_500mFault_WS21.csv')\n",
    "\n",
    "\n"
   ]
  },
  {
   "cell_type": "code",
   "execution_count": 8,
   "id": "cb6dd72d",
   "metadata": {},
   "outputs": [],
   "source": [
    "cat_reloc = pd.read_csv('../data/catalogs/reloc_cat_final_Rx0_1Stations_20230325.csv')\n",
    "\n",
    "cat_reloc['timestamp'] = pd.to_datetime(cat_reloc[['year','month','day','hour','minute','second']])\n",
    "cat_reloc['timestamp_index'] = pd.to_datetime(cat_reloc[['year','month','day','hour','minute','second']])\n",
    "cat_reloc = cat_reloc.set_index('timestamp_index')"
   ]
  },
  {
   "cell_type": "code",
   "execution_count": 9,
   "id": "4e0a4842",
   "metadata": {},
   "outputs": [
    {
     "data": {
      "text/plain": [
       "3158"
      ]
     },
     "execution_count": 9,
     "metadata": {},
     "output_type": "execute_result"
    }
   ],
   "source": [
    "len(cat_reloc)"
   ]
  },
  {
   "cell_type": "code",
   "execution_count": 10,
   "id": "2bbff14c",
   "metadata": {},
   "outputs": [
    {
     "name": "stdout",
     "output_type": "stream",
     "text": [
      "27674 repeater earthquakes in 7714  sequences\n"
     ]
    }
   ],
   "source": [
    "cat_REQCA = formatWS2021('../data/catalogs/NCA_REPQcat_20210919_noMeta_v2.csv');\n",
    "\n"
   ]
  },
  {
   "cell_type": "code",
   "execution_count": 12,
   "id": "23e88458",
   "metadata": {},
   "outputs": [
    {
     "name": "stdout",
     "output_type": "stream",
     "text": [
      "Index(['Unnamed: 0', 'az', 'day', 'depth_km', 'dX', 'dY', 'dZ', 'hour', 'id',\n",
      "       'lat', 'long', 'magnitude', 'minute', 'month', 'second', 'year',\n",
      "       'event_ID', 'RID', 'dist_along_strike_km', 'radius', 'Cluster_2'],\n",
      "      dtype='object')\n"
     ]
    },
    {
     "data": {
      "text/plain": [
       "(1024, None)"
      ]
     },
     "execution_count": 12,
     "metadata": {},
     "output_type": "execute_result"
    }
   ],
   "source": [
    "\n",
    "cat_WS21 = cat_NCSN[cat_NCSN.event_ID.astype('int').isin(list(cat_REQCA.event_ID))]\n",
    "\n",
    "cat_WS21['Cluster_2'] = cat_WS21['RID']\n",
    "\n",
    "len(cat_WS21),print(cat_WS21.columns)"
   ]
  },
  {
   "cell_type": "code",
   "execution_count": 13,
   "id": "45c8c9f1",
   "metadata": {},
   "outputs": [],
   "source": [
    "cat_WS21_reloc = cat_reloc[cat_reloc.event_ID.astype(str).isin(list(cat_WS21.event_ID))]"
   ]
  },
  {
   "cell_type": "code",
   "execution_count": null,
   "id": "71e37956",
   "metadata": {},
   "outputs": [],
   "source": []
  },
  {
   "cell_type": "code",
   "execution_count": 15,
   "id": "9f1e9042",
   "metadata": {},
   "outputs": [],
   "source": [
    "# cols = ['event_ID', 'lat', 'long', 'depth_km', 'X', 'Y', 'Z', 'dX', 'dY', 'dZ', 'YR', 'MO', 'DY', 'HR', 'MI', 'SC',\\\n",
    "# 'magnitude', 'NCCP', 'NCCS', 'NCTP','NCTS', 'RCC', 'RCT', 'RID']\n",
    "# R_list = np.unique(cat_WS21.RID)\n",
    "# hypo_cat_all = []\n",
    "\n",
    "# for RR in R_list:\n",
    "#     path_hypocat = f'../data/catalogs/RES_relocfiles/hypoDD.reloc.{RR}'\n",
    "#     hypo_cat = pd.read_csv(path_hypocat,delim_whitespace=True,header=None,names=cols)\n",
    "#     hypo_cat['RID'] = RR\n",
    "#     hypo_cat['Cluster_2'] = RR\n",
    "    \n",
    "#     hypo_cat_all.append(hypo_cat)\n",
    "\n",
    "# hypo_cat_all_df = pd.concat(hypo_cat_all,ignore_index=True)"
   ]
  },
  {
   "cell_type": "code",
   "execution_count": 16,
   "id": "c82689e2",
   "metadata": {},
   "outputs": [],
   "source": [
    "# cols = ['event_ID', 'lat', 'long', 'depth_km', 'X', 'Y', 'Z', 'dX', 'dY', 'dZ', 'YR', 'MO', 'DY', 'HR', 'MI', 'SC',\\\n",
    "# 'magnitude', 'NCCP', 'NCCS', 'NCTP','NCTS', 'RCC', 'RCT', 'RID']\n",
    "\n",
    "# # RR = 'R1.5592.6066.0'\n",
    "# RR = 'R1.0916.4312.2'\n",
    "# RR = 'R1.1335.516.1'\n",
    "# RR = 'R1.1687.2612.0'\n",
    "# RR = 'R1.2365.5644.0'\n",
    "# RR = 'R1.0123.44.0'\n",
    "# path_hypocat = f'../data/catalogs/RES_relocfiles/hypoDD.reloc.{RR}'\n",
    "# hypo_cat = pd.read_csv(path_hypocat,delim_whitespace=True,header=None,names=cols)\n",
    "\n",
    "\n",
    "\n",
    "\n",
    "\n",
    "# plotLocLatLonError(hypo_cat,hypo_cat)\n",
    "# plt.figure()\n",
    "# plotDepthLatLonError(hypo_cat,hypo_cat)\n",
    "# ax = plt.gca()\n",
    "# ax.set_aspect(1/111111)"
   ]
  },
  {
   "cell_type": "code",
   "execution_count": null,
   "id": "68c1e311",
   "metadata": {},
   "outputs": [],
   "source": []
  },
  {
   "cell_type": "markdown",
   "id": "23f50b93",
   "metadata": {},
   "source": [
    "# Location lat lon"
   ]
  },
  {
   "cell_type": "code",
   "execution_count": 333,
   "id": "b3936d79",
   "metadata": {},
   "outputs": [],
   "source": []
  },
  {
   "cell_type": "code",
   "execution_count": 17,
   "id": "f0471599",
   "metadata": {},
   "outputs": [
    {
     "data": {
      "text/plain": [
       "3158"
      ]
     },
     "execution_count": 17,
     "metadata": {},
     "output_type": "execute_result"
    }
   ],
   "source": [
    "cat = cat_reloc#[cat_reloc.Cluster_2==187]\n",
    "# cat = cat_WS21\n",
    "# cat = cat_noreloc\n",
    "# cat = hypo_cat_all_df\n",
    "\n",
    "len(cat)\n"
   ]
  },
  {
   "cell_type": "code",
   "execution_count": 18,
   "id": "0c930a9d",
   "metadata": {},
   "outputs": [
    {
     "data": {
      "text/plain": [
       "0.970703125"
      ]
     },
     "execution_count": 18,
     "metadata": {},
     "output_type": "execute_result"
    }
   ],
   "source": [
    "getProportionWS21(cat,cat_WS21)\n",
    "\n"
   ]
  },
  {
   "cell_type": "code",
   "execution_count": 19,
   "id": "415be781",
   "metadata": {},
   "outputs": [
    {
     "data": {
      "text/plain": [
       "Index(['event_ID', 'lat', 'long', 'depth_km', 'X', 'Y', 'Z', 'dX', 'dY', 'dZ',\n",
       "       'year', 'month', 'day', 'hour', 'minute', 'second', 'magnitude', 'NCCP',\n",
       "       'NCCS', 'NCTP', 'NCTS', 'RCC', 'RCT', 'RID', 'Cluster_2', 'NumStations',\n",
       "       'CVr', 'timestamp'],\n",
       "      dtype='object')"
      ]
     },
     "execution_count": 19,
     "metadata": {},
     "output_type": "execute_result"
    }
   ],
   "source": [
    "cat.columns"
   ]
  },
  {
   "cell_type": "markdown",
   "id": "27f272a7",
   "metadata": {},
   "source": [
    "# (Simplest Version, meters - I used this one)"
   ]
  },
  {
   "cell_type": "code",
   "execution_count": null,
   "id": "d9bb91a0",
   "metadata": {},
   "outputs": [],
   "source": []
  },
  {
   "cell_type": "code",
   "execution_count": 20,
   "id": "7a085899",
   "metadata": {},
   "outputs": [
    {
     "data": {
      "text/plain": [
       "(3158, 772)"
      ]
     },
     "execution_count": 20,
     "metadata": {},
     "output_type": "execute_result"
    }
   ],
   "source": [
    "minlocerr_km = 0.01; #% average min location error added to the rupture area (in km).\n",
    "minlocerr_m = minlocerr_km * 1000\n",
    "\n",
    "cat['dHorz'] = [np.max([dX,dY,minlocerr_m]) for dX,dY in zip(cat.dX, cat.dY)]\n",
    "cat['locerr'] = [np.max([dX,dY,dZ,minlocerr_m]) for dX,dY,dZ in zip(cat.dX, cat.dY, cat.dZ)]\n",
    "cat['dHorz2'] = [np.max([dX,dY]) for dX,dY in zip(cat.dX, cat.dY)]\n",
    "\n",
    "cat_crit_list = []\n",
    "plot = 0\n",
    "     \n",
    "    \n",
    "for enum,cl in enumerate(np.unique(cat.Cluster_2)):\n",
    "\n",
    "    \n",
    "    cat_clus = cat[cat.Cluster_2==cl]\n",
    "\n",
    "    cat_clus.Cluster = cat_clus.Cluster_2\n",
    "\n",
    "    X = np.array(cat_clus.X)\n",
    "    Y = np.array(cat_clus.Y)\n",
    "    Z = np.array(cat_clus.Z)\n",
    "\n",
    "    itake1 = 1\n",
    "    drad = []\n",
    "    for j in range(len(X)):\n",
    "\n",
    "        xj = cat_clus.X.iloc[j]\n",
    "        yj = cat_clus.Y.iloc[j]\n",
    "        zj = cat_clus.Z.iloc[j]\n",
    "        locerrj = cat_clus.locerr.iloc[j]\n",
    "        magj = cat_clus.magnitude.iloc[j]\n",
    "        \n",
    "        radj = calcRadius(magj + 0.1)\n",
    "        \n",
    "#         if dmag[j] > -10:\n",
    "#             drad_j = srcrad(dmag[j] + dmage[j], stressdrop * 10) / 1000\n",
    "#         else:\n",
    "#             drad_j = rad\n",
    "#         drad.append(drad_j)\n",
    "\n",
    "        inside = np.sqrt((X - xj)**2 + (Y - yj)**2 + (Z - zj)**2) < (radj + locerrj)\n",
    "        if not np.min(inside):\n",
    "            itake1 = 0\n",
    "            \n",
    "    if itake1==1:\n",
    "        cat_crit_list.append(cat_clus)\n",
    "#         if plot:\n",
    "#             fig, [ax,ax2] = plt.subplots(ncols=2,figsize=(8,4))\n",
    "#             plt.subplots_adjust(wspace=1.5)\n",
    "\n",
    "#             ax.set_title(cl)            \n",
    "\n",
    "#             plotLocZoomMeters(cat_clus,cat_clus,ax=ax)\n",
    "#             plotDepthZoomMeters(cat_clus,cat_clus,ax=ax2,fontsize=12)            \n",
    "#             ax2.axis('equal')\n",
    "\n",
    "#             ax.tick_params(color='g', labelcolor='g')\n",
    "#             for spine in ax.spines.values():\n",
    "#                 spine.set_edgecolor('g') \n",
    "#             ax2.tick_params(color='g', labelcolor='g')\n",
    "#             for spine in ax2.spines.values():\n",
    "#                 spine.set_edgecolor('g')            \n",
    "        \n",
    "    else:    \n",
    "        \n",
    "        if plot:\n",
    "            fig, [ax,ax2] = plt.subplots(ncols=2,figsize=(8,4))\n",
    "            plt.subplots_adjust(wspace=1.5)\n",
    "\n",
    "            ax.set_title(cl)            \n",
    "\n",
    "            plotLocZoomMeters(cat_clus,cat_clus,ax=ax)\n",
    "            plotDepthZoomMeters(cat_clus,cat_clus,ax=ax2,fontsize=12)            \n",
    "            ax2.axis('equal')\n",
    "\n",
    "            ax.tick_params(color='red', labelcolor='red')\n",
    "            for spine in ax.spines.values():\n",
    "                spine.set_edgecolor('red') \n",
    "            ax2.tick_params(color='red', labelcolor='red')\n",
    "            for spine in ax2.spines.values():\n",
    "                spine.set_edgecolor('red') \n",
    "#             plt.savefig(f'../reports/figures/{cl}_reject.png')\n",
    "\n",
    "\n",
    "                \n",
    "cat_crit = pd.concat(cat_crit_list,ignore_index=True)\n",
    "len(cat), len(cat_crit)\n",
    "\n",
    "\n",
    "            "
   ]
  },
  {
   "cell_type": "code",
   "execution_count": 21,
   "id": "9f23970a",
   "metadata": {},
   "outputs": [
    {
     "data": {
      "text/plain": [
       "0.2890625"
      ]
     },
     "execution_count": 21,
     "metadata": {},
     "output_type": "execute_result"
    }
   ],
   "source": [
    "getProportionWS21(cat_crit,cat_WS21)\n",
    "\n",
    "\n"
   ]
  },
  {
   "cell_type": "code",
   "execution_count": null,
   "id": "758d43d7",
   "metadata": {},
   "outputs": [],
   "source": []
  },
  {
   "cell_type": "code",
   "execution_count": null,
   "id": "b28611c4",
   "metadata": {},
   "outputs": [],
   "source": []
  },
  {
   "cell_type": "code",
   "execution_count": null,
   "id": "26aad856",
   "metadata": {},
   "outputs": [],
   "source": []
  },
  {
   "cell_type": "code",
   "execution_count": 165,
   "id": "128fce91",
   "metadata": {},
   "outputs": [],
   "source": [
    "# cat_crit.to_csv('../data/catalogs/Rx16_test_1station_BSG_noWSloc.csv')"
   ]
  },
  {
   "cell_type": "code",
   "execution_count": null,
   "id": "dfce4331",
   "metadata": {},
   "outputs": [],
   "source": []
  },
  {
   "cell_type": "markdown",
   "id": "a7825ca6",
   "metadata": {},
   "source": [
    "# With meters, removing outsiders"
   ]
  },
  {
   "cell_type": "code",
   "execution_count": 23,
   "id": "93a92d06",
   "metadata": {},
   "outputs": [
    {
     "name": "stdout",
     "output_type": "stream",
     "text": [
      "Index(['event_ID', 'lat', 'long', 'depth_km', 'X', 'Y', 'Z', 'dX', 'dY', 'dZ',\n",
      "       'year', 'month', 'day', 'hour', 'minute', 'second', 'magnitude', 'NCCP',\n",
      "       'NCCS', 'NCTP', 'NCTS', 'RCC', 'RCT', 'RID', 'Cluster_2', 'NumStations',\n",
      "       'CVr', 'timestamp', 'dHorz', 'locerr', 'dHorz2'],\n",
      "      dtype='object')\n"
     ]
    },
    {
     "data": {
      "text/plain": [
       "0.970703125"
      ]
     },
     "execution_count": 23,
     "metadata": {},
     "output_type": "execute_result"
    }
   ],
   "source": [
    "cat = cat_reloc#[cat_reloc.Cluster_2==187]\n",
    "# cat = cat_WS21\n",
    "# cat = cat_noreloc\n",
    "# cat = hypo_cat_all_df\n",
    "\n",
    "len(cat)\n",
    "print(cat.columns)\n",
    "getProportionWS21(cat,cat_WS21)"
   ]
  },
  {
   "cell_type": "code",
   "execution_count": null,
   "id": "df658b2b",
   "metadata": {},
   "outputs": [],
   "source": []
  },
  {
   "cell_type": "code",
   "execution_count": 24,
   "id": "b994d7dd",
   "metadata": {},
   "outputs": [
    {
     "ename": "NameError",
     "evalue": "name 'dist' is not defined",
     "output_type": "error",
     "traceback": [
      "\u001b[0;31m---------------------------------------------------------------------------\u001b[0m",
      "\u001b[0;31mNameError\u001b[0m                                 Traceback (most recent call last)",
      "\u001b[0;32m<ipython-input-24-d29a663a2062>\u001b[0m in \u001b[0;36m<module>\u001b[0;34m\u001b[0m\n\u001b[1;32m     20\u001b[0m     \u001b[0;32mif\u001b[0m \u001b[0mlen\u001b[0m\u001b[0;34m(\u001b[0m\u001b[0mcat_clus0\u001b[0m\u001b[0;34m)\u001b[0m\u001b[0;34m>\u001b[0m\u001b[0;36m1\u001b[0m\u001b[0;34m:\u001b[0m\u001b[0;34m\u001b[0m\u001b[0;34m\u001b[0m\u001b[0m\n\u001b[1;32m     21\u001b[0m \u001b[0;34m\u001b[0m\u001b[0m\n\u001b[0;32m---> 22\u001b[0;31m         \u001b[0mcat_clus\u001b[0m\u001b[0;34m,\u001b[0m\u001b[0mnumFalse\u001b[0m \u001b[0;34m=\u001b[0m \u001b[0mremoveOutsideMeters\u001b[0m\u001b[0;34m(\u001b[0m\u001b[0mcat_clus0\u001b[0m\u001b[0;34m)\u001b[0m \u001b[0;31m# remove outside clusters\u001b[0m\u001b[0;34m\u001b[0m\u001b[0;34m\u001b[0m\u001b[0m\n\u001b[0m\u001b[1;32m     23\u001b[0m \u001b[0;34m\u001b[0m\u001b[0m\n\u001b[1;32m     24\u001b[0m         \u001b[0mcat_clus\u001b[0m\u001b[0;34m.\u001b[0m\u001b[0mreset_index\u001b[0m\u001b[0;34m(\u001b[0m\u001b[0minplace\u001b[0m\u001b[0;34m=\u001b[0m\u001b[0;32mTrue\u001b[0m\u001b[0;34m)\u001b[0m\u001b[0;34m\u001b[0m\u001b[0;34m\u001b[0m\u001b[0m\n",
      "\u001b[0;32m<ipython-input-2-7c90bcaeeb72>\u001b[0m in \u001b[0;36mremoveOutsideMeters\u001b[0;34m(df_cl)\u001b[0m\n\u001b[1;32m    270\u001b[0m     \u001b[0mdist_row\u001b[0m \u001b[0;34m=\u001b[0m \u001b[0;34m[\u001b[0m\u001b[0mnp\u001b[0m\u001b[0;34m.\u001b[0m\u001b[0msqrt\u001b[0m\u001b[0;34m(\u001b[0m \u001b[0;34m(\u001b[0m\u001b[0mXc\u001b[0m\u001b[0;34m-\u001b[0m\u001b[0mdf_cl\u001b[0m\u001b[0;34m.\u001b[0m\u001b[0mX\u001b[0m\u001b[0;34m.\u001b[0m\u001b[0miloc\u001b[0m\u001b[0;34m[\u001b[0m\u001b[0mi\u001b[0m\u001b[0;34m]\u001b[0m\u001b[0;34m)\u001b[0m\u001b[0;34m**\u001b[0m\u001b[0;36m2\u001b[0m \u001b[0;34m+\u001b[0m \u001b[0;34m(\u001b[0m\u001b[0mYc\u001b[0m\u001b[0;34m-\u001b[0m\u001b[0mdf_cl\u001b[0m\u001b[0;34m.\u001b[0m\u001b[0mY\u001b[0m\u001b[0;34m.\u001b[0m\u001b[0miloc\u001b[0m\u001b[0;34m[\u001b[0m\u001b[0mi\u001b[0m\u001b[0;34m]\u001b[0m\u001b[0;34m)\u001b[0m\u001b[0;34m**\u001b[0m\u001b[0;36m2\u001b[0m \u001b[0;34m+\u001b[0m \u001b[0;34m(\u001b[0m\u001b[0mZc\u001b[0m\u001b[0;34m-\u001b[0m\u001b[0mdf_cl\u001b[0m\u001b[0;34m.\u001b[0m\u001b[0mZ\u001b[0m\u001b[0;34m.\u001b[0m\u001b[0miloc\u001b[0m\u001b[0;34m[\u001b[0m\u001b[0mi\u001b[0m\u001b[0;34m]\u001b[0m\u001b[0;34m)\u001b[0m\u001b[0;34m**\u001b[0m\u001b[0;36m2\u001b[0m \u001b[0;34m)\u001b[0m \u001b[0;32mfor\u001b[0m \u001b[0mi\u001b[0m \u001b[0;32min\u001b[0m \u001b[0mrange\u001b[0m\u001b[0;34m(\u001b[0m\u001b[0mlen\u001b[0m\u001b[0;34m(\u001b[0m\u001b[0mdf_cl\u001b[0m\u001b[0;34m)\u001b[0m\u001b[0;34m)\u001b[0m\u001b[0;34m]\u001b[0m\u001b[0;34m\u001b[0m\u001b[0;34m\u001b[0m\u001b[0m\n\u001b[1;32m    271\u001b[0m \u001b[0;34m\u001b[0m\u001b[0m\n\u001b[0;32m--> 272\u001b[0;31m     \u001b[0minside\u001b[0m \u001b[0;34m=\u001b[0m \u001b[0mnp\u001b[0m\u001b[0;34m.\u001b[0m\u001b[0marray\u001b[0m\u001b[0;34m(\u001b[0m\u001b[0mdist_row\u001b[0m\u001b[0;34m)\u001b[0m \u001b[0;34m<\u001b[0m \u001b[0;34m(\u001b[0m\u001b[0mdist\u001b[0m \u001b[0;34m+\u001b[0m \u001b[0mmed_error\u001b[0m\u001b[0;34m)\u001b[0m\u001b[0;34m\u001b[0m\u001b[0;34m\u001b[0m\u001b[0m\n\u001b[0m\u001b[1;32m    273\u001b[0m \u001b[0;34m\u001b[0m\u001b[0m\n\u001b[1;32m    274\u001b[0m     \u001b[0mdf_cl_inside\u001b[0m \u001b[0;34m=\u001b[0m \u001b[0mdf_cl\u001b[0m\u001b[0;34m[\u001b[0m\u001b[0minside\u001b[0m\u001b[0;34m]\u001b[0m\u001b[0;34m\u001b[0m\u001b[0;34m\u001b[0m\u001b[0m\n",
      "\u001b[0;31mNameError\u001b[0m: name 'dist' is not defined"
     ]
    }
   ],
   "source": [
    "minlocerr_km = 0.01; #% average min location error added to the rupture area (in km).\n",
    "minlocerr_m = minlocerr_km * 1000\n",
    "\n",
    "cat['dHorz'] = [np.max([dX,dY,minlocerr_m]) for dX,dY in zip(cat.dX, cat.dY)]\n",
    "cat['locerr'] = [np.max([dX,dY,dZ,minlocerr_m]) for dX,dY,dZ in zip(cat.dX, cat.dY, cat.dZ)]\n",
    "cat['dHorz2'] = [np.max([dX,dY]) for dX,dY in zip(cat.dX, cat.dY)]\n",
    "\n",
    "cat_crit_list = []\n",
    "plot = 0\n",
    "    \n",
    "for enum,cl in enumerate(np.unique(cat.Cluster_2)):\n",
    "\n",
    "    \n",
    "    cat_clus00 = cat[cat.Cluster_2==cl]\n",
    "\n",
    "    cat_clus00.Cluster = cat_clus00.Cluster_2\n",
    "    \n",
    "    cat_clus0 = RemoveMagnitudes(cat_clus00,verbose=0)\n",
    "    \n",
    "    if len(cat_clus0)>1:\n",
    "    \n",
    "        cat_clus,numFalse = removeOutsideMeters(cat_clus0) # remove outside clusters\n",
    "        \n",
    "        cat_clus.reset_index(inplace=True)\n",
    "\n",
    "\n",
    "        if len(cat_clus)>1:\n",
    "\n",
    "\n",
    "\n",
    "            X = np.array(cat_clus.X)\n",
    "            Y = np.array(cat_clus.Y)\n",
    "            Z = np.array(cat_clus.Z)\n",
    "\n",
    "            itake1 = 1\n",
    "            drad = []\n",
    "            for j in range(len(X)):\n",
    "                if cat_clus.RID.iloc[j]=='0':\n",
    "\n",
    "                    xj = cat_clus.X.iloc[j]\n",
    "                    yj = cat_clus.Y.iloc[j]\n",
    "                    zj = cat_clus.Z.iloc[j]\n",
    "                    locerrj = cat_clus.locerr.iloc[j]\n",
    "                    magj = cat_clus.magnitude.iloc[j]\n",
    "\n",
    "                    radj = calcRadius(magj + 0.1)\n",
    "\n",
    "            #         if dmag[j] > -10:\n",
    "            #             drad_j = srcrad(dmag[j] + dmage[j], stressdrop * 10) / 1000\n",
    "            #         else:\n",
    "            #             drad_j = rad\n",
    "            #         drad.append(drad_j)\n",
    "\n",
    "                    inside = np.sqrt((X - xj)**2 + (Y - yj)**2 + (Z - zj)**2) < 1*(radj + locerrj)\n",
    "                else:\n",
    "                    inside = 1\n",
    "\n",
    "                if not np.min(inside):\n",
    "                    itake1 = 0\n",
    "\n",
    "            if itake1==1:\n",
    "                cat_crit_list.append(cat_clus)\n",
    "#                 if plot:\n",
    "#                     fig, [ax,ax2] = plt.subplots(ncols=2,figsize=(8,4))\n",
    "#                     plt.subplots_adjust(wspace=1.5)\n",
    "\n",
    "#                     ax.set_title(cl)            \n",
    "\n",
    "#                     plotLocZoomMeters(cat_clus,cat_clus,ax=ax)\n",
    "#                     plotDepthZoomMeters(cat_clus,cat_clus,ax=ax2,fontsize=12)            \n",
    "#                     ax2.axis('equal')\n",
    "\n",
    "#                     ax.tick_params(color='g', labelcolor='g')\n",
    "#                     for spine in ax.spines.values():\n",
    "#                         spine.set_edgecolor('g') \n",
    "#                     ax2.tick_params(color='g', labelcolor='g')\n",
    "#                     for spine in ax2.spines.values():\n",
    "#                         spine.set_edgecolor('g')            \n",
    "\n",
    "            else:    \n",
    "\n",
    "                if plot:\n",
    "                    fig, [ax,ax2] = plt.subplots(ncols=2,figsize=(8,4))\n",
    "                    plt.subplots_adjust(wspace=1.5)\n",
    "\n",
    "                    ax.set_title(cl)            \n",
    "\n",
    "                    plotLocZoomMeters(cat_clus,cat_clus,ax=ax)\n",
    "                    plotDepthZoomMeters(cat_clus,cat_clus,ax=ax2,fontsize=12)            \n",
    "                    ax2.axis('equal')\n",
    "\n",
    "                    ax.tick_params(color='red', labelcolor='red')\n",
    "                    for spine in ax.spines.values():\n",
    "                        spine.set_edgecolor('red') \n",
    "                    ax2.tick_params(color='red', labelcolor='red')\n",
    "                    for spine in ax2.spines.values():\n",
    "                        spine.set_edgecolor('red')\n",
    "                        \n",
    "                        \n",
    "                    fig, [ax,ax2] = plt.subplots(ncols=2,figsize=(8,4))\n",
    "                    plt.subplots_adjust(wspace=1.5)\n",
    "\n",
    "                    ax.set_title(cl)            \n",
    "\n",
    "                    plotLocZoomMeters(cat_clus0,cat_clus0,ax=ax)\n",
    "                    plotDepthZoomMeters(cat_clus0,cat_clus0,ax=ax2,fontsize=12)            \n",
    "                    ax2.axis('equal')\n",
    "\n",
    "                    ax.tick_params(color='red', labelcolor='red')\n",
    "                    for spine in ax.spines.values():\n",
    "                        spine.set_edgecolor('red') \n",
    "                    ax2.tick_params(color='red', labelcolor='red')\n",
    "                    for spine in ax2.spines.values():\n",
    "                        spine.set_edgecolor('red')                        \n",
    "\n",
    "        else:\n",
    "    #         print('singleton')\n",
    "            pass\n",
    "\n",
    "\n",
    "            \n",
    "cat_crit = pd.concat(cat_crit_list,ignore_index=True)\n",
    "len(cat), len(cat_crit)\n",
    "\n",
    "\n",
    "            "
   ]
  },
  {
   "cell_type": "code",
   "execution_count": null,
   "id": "e56d5a8d",
   "metadata": {},
   "outputs": [],
   "source": []
  },
  {
   "cell_type": "code",
   "execution_count": 430,
   "id": "8a30095e",
   "metadata": {},
   "outputs": [],
   "source": [
    "# cat_crit.to_csv('../data/catalogs/Rx16_test2_1station_BSG_noWSloc_RemoveOutsidesAndMags.csv')\n",
    "\n"
   ]
  },
  {
   "cell_type": "code",
   "execution_count": 431,
   "id": "3b2b1c9b",
   "metadata": {},
   "outputs": [
    {
     "data": {
      "text/plain": [
       "0.970703125"
      ]
     },
     "execution_count": 431,
     "metadata": {},
     "output_type": "execute_result"
    }
   ],
   "source": [
    "getProportionWS21(cat,cat_WS21)"
   ]
  },
  {
   "cell_type": "code",
   "execution_count": 432,
   "id": "50e2e3d9",
   "metadata": {},
   "outputs": [
    {
     "data": {
      "text/plain": [
       "0.7294921875"
      ]
     },
     "execution_count": 432,
     "metadata": {},
     "output_type": "execute_result"
    }
   ],
   "source": [
    "getProportionWS21(cat_crit,cat_WS21)"
   ]
  },
  {
   "cell_type": "code",
   "execution_count": 433,
   "id": "d5024aea",
   "metadata": {},
   "outputs": [
    {
     "data": {
      "text/plain": [
       "394"
      ]
     },
     "execution_count": 433,
     "metadata": {},
     "output_type": "execute_result"
    }
   ],
   "source": [
    "len(np.unique(cat_crit.Cluster_2))"
   ]
  },
  {
   "cell_type": "code",
   "execution_count": null,
   "id": "58fd171c",
   "metadata": {},
   "outputs": [],
   "source": []
  },
  {
   "cell_type": "code",
   "execution_count": 393,
   "id": "20d3f45b",
   "metadata": {},
   "outputs": [],
   "source": [
    "# cat_WS21_crit = cat_crit"
   ]
  },
  {
   "cell_type": "code",
   "execution_count": 394,
   "id": "127cc658",
   "metadata": {},
   "outputs": [
    {
     "data": {
      "text/plain": [
       "(747, 1356)"
      ]
     },
     "execution_count": 394,
     "metadata": {},
     "output_type": "execute_result"
    }
   ],
   "source": [
    "len(cat_crit[cat_crit.RID!='0']),len(cat_crit[cat_crit.RID=='0'])"
   ]
  },
  {
   "cell_type": "code",
   "execution_count": null,
   "id": "272e3d0d",
   "metadata": {},
   "outputs": [],
   "source": []
  },
  {
   "cell_type": "code",
   "execution_count": null,
   "id": "4fbbc9a8",
   "metadata": {},
   "outputs": [],
   "source": []
  },
  {
   "cell_type": "code",
   "execution_count": 259,
   "id": "7bd1cc68",
   "metadata": {},
   "outputs": [
    {
     "data": {
      "text/plain": [
       "0.7802734375"
      ]
     },
     "execution_count": 259,
     "metadata": {},
     "output_type": "execute_result"
    }
   ],
   "source": []
  },
  {
   "cell_type": "code",
   "execution_count": null,
   "id": "16de6a00",
   "metadata": {},
   "outputs": [],
   "source": []
  },
  {
   "cell_type": "markdown",
   "id": "015dcd76",
   "metadata": {},
   "source": [
    "# More complicated way"
   ]
  },
  {
   "cell_type": "code",
   "execution_count": 188,
   "id": "8f619872",
   "metadata": {},
   "outputs": [],
   "source": [
    "# minlocerr_km = 0.01; #% average min location error added to the rupture area (in km).\n",
    "# minlocerr_m = minlocerr_km * 1000\n",
    "\n",
    "# cat['dHorz'] = [np.max([dX,dY,minlocerr_m]) for dX,dY in zip(cat.dX, cat.dY)]\n",
    "# cat['locerr'] = [np.max([dX,dY,dZ,minlocerr_m]) for dX,dY,dZ in zip(cat.dX, cat.dY, cat.dZ)]\n",
    "# cat['dHorz2'] = [np.max([dX,dY]) for dX,dY in zip(cat.dX, cat.dY)]\n",
    "\n",
    "\n",
    "\n",
    "# cat_crit = pd.DataFrame()\n",
    "# plot = 1\n",
    "# ntype1 = 0\n",
    "\n",
    "# for enum,cl in enumerate(np.unique(cat.Cluster_2)):\n",
    "# # for enum,cl in enumerate(['R1.0123.44.0']):\n",
    "    \n",
    "#     cat_clus = cat[cat.Cluster_2==cl]\n",
    "\n",
    "#     cat_clus.Cluster = cat_clus.Cluster_2\n",
    "\n",
    "#     lon = np.array(cat_clus.long)\n",
    "#     lat = np.array(cat_clus.lat)\n",
    "#     med_lat = np.median(cat_clus.lat)\n",
    "#     z_m = np.array(cat_clus.depth_km)*1000\n",
    "\n",
    "\n",
    "#     itake1=1    \n",
    "\n",
    "#     for j in range(len(cat_clus)):\n",
    "\n",
    "#         latc = cat_clus.lat.iloc[j]\n",
    "#         longc = cat_clus.long.iloc[j]\n",
    "#         depthc_m = cat_clus.depth_km.iloc[j]*1000\n",
    "#         mag = cat_clus.magnitude.iloc[j]\n",
    "# #         dmag = cat_clus.dmag.astype(float).iloc[j]\n",
    "# #         dmage = cat_clus.dmage.astype(float).iloc[j]\n",
    "\n",
    "\n",
    "\n",
    "#         rad_m=(calcRadius(mag+0.1))\n",
    "\n",
    "# #                 if dmag > -10 :\n",
    "# #                     drad =(calcRadius(dmag+dmage)) \n",
    "# # #                     print(mag+0.1,dmag+dmage)\n",
    "# #                 else:\n",
    "# #                     print('k')\n",
    "# #                     drad =rad_m;                \n",
    "#         drad =rad_m;                \n",
    "\n",
    "# #         print(drad)\n",
    "\n",
    "#         max_dist = ((drad + cat_clus.locerr.iloc[j]))   \n",
    "\n",
    "\n",
    "#         dist_row = [np.sqrt( latlon2meter((latc,longc),(lat[i],lon[i]))**2 + (z_m[i]-depthc_m)**2 ) for i in range(len(cat_clus)) if i!=j]\n",
    "\n",
    "#         if j==0:\n",
    "#             dist_rows = dist_row\n",
    "#         else:\n",
    "#             dist_rows = np.vstack([dist_rows,dist_row])\n",
    "\n",
    "\n",
    "#     inside = np.array(dist_rows) <  max_dist\n",
    "\n",
    "#     if np.min(inside)==0:\n",
    "#         itake1=0\n",
    "\n",
    "\n",
    "#     if(itake1==1):\n",
    "\n",
    "\n",
    "#         ntype1= ntype1+1\n",
    "#         cat_crit = cat_crit.append(cat_clus)\n",
    "\n",
    "\n",
    "#         if plot:\n",
    "\n",
    "#             fig, [ax,ax2] = plt.subplots(ncols=2,figsize=(8,4))\n",
    "#             plt.subplots_adjust(wspace=1.5)\n",
    "\n",
    "#             ax.set_title(enum)\n",
    "#             plotLocLatLonError(cat_clus,cat_clus,ax=ax)\n",
    "#             plotDepthLatLonError(cat_clus,cat_clus,ax=ax2,fontsize=12)             \n",
    "#             ax2.set_aspect(meters2deg(1,med_lat))      \n",
    "            \n",
    "            \n",
    "# #             plotLocZoom5(cat_clus,cat_clus,ax=ax)\n",
    "# #             plotDepthZoom8(cat_clus,cat_clus,ax=ax2)\n",
    "            \n",
    "\n",
    "\n",
    "#             ax.tick_params(color='g', labelcolor='g')\n",
    "#             for spine in ax.spines.values():\n",
    "#                 spine.set_edgecolor('g')    \n",
    "\n",
    "\n",
    "\n",
    "\n",
    "#     else:\n",
    "#         if plot:  \n",
    "\n",
    "#             fig, [ax,ax2] = plt.subplots(ncols=2,figsize=(8,4))\n",
    "#             plt.subplots_adjust(wspace=1.5)\n",
    "\n",
    "#             ax.set_title(cl)            \n",
    "# #             plotLocZoom5(cat_clus,cat_clus,ax=ax)\n",
    "# #             ax.scatter(longc,latc,marker='x',color='k',s=100)\n",
    "# #             plotDepthZoom8(cat_clus,cat_clus,ax=ax2)\n",
    "#             plotLocLatLonError(cat_clus,cat_clus,ax=ax)\n",
    "#             plotDepthLatLonError(cat_clus,cat_clus,ax=ax2,fontsize=12)            \n",
    "#             ax2.set_aspect(meters2deg(1,med_lat))\n",
    "#             ax2.scatter(longc,depthc_m,marker='x',color='k',s=1000)\n",
    "\n",
    "\n",
    "#             ax.tick_params(color='red', labelcolor='red')\n",
    "#             for spine in ax.spines.values():\n",
    "#                 spine.set_edgecolor('red')                      \n",
    "\n",
    "# #             break\n",
    "\n",
    "\n",
    "# print(ntype1)\n",
    "# print(len(cat_crit))"
   ]
  },
  {
   "cell_type": "code",
   "execution_count": null,
   "id": "a36a4165",
   "metadata": {},
   "outputs": [],
   "source": []
  },
  {
   "cell_type": "code",
   "execution_count": 87,
   "id": "02ea90fa",
   "metadata": {},
   "outputs": [
    {
     "data": {
      "text/plain": [
       "0.6884765625"
      ]
     },
     "execution_count": 87,
     "metadata": {},
     "output_type": "execute_result"
    }
   ],
   "source": [
    "getProportionWS21(cat_crit,cat_WS21)"
   ]
  },
  {
   "cell_type": "code",
   "execution_count": 69,
   "id": "cdcf5587",
   "metadata": {},
   "outputs": [
    {
     "data": {
      "text/plain": [
       "(0, 708)"
      ]
     },
     "execution_count": 69,
     "metadata": {},
     "output_type": "execute_result"
    }
   ],
   "source": [
    "len(cat_crit[cat_crit.RID=='0']),len(cat_crit[cat_crit.RID!='0'])"
   ]
  },
  {
   "cell_type": "code",
   "execution_count": null,
   "id": "306fcbec",
   "metadata": {},
   "outputs": [],
   "source": []
  },
  {
   "cell_type": "code",
   "execution_count": null,
   "id": "b2031af3",
   "metadata": {},
   "outputs": [],
   "source": []
  },
  {
   "cell_type": "code",
   "execution_count": 772,
   "id": "740ac43f",
   "metadata": {},
   "outputs": [
    {
     "data": {
      "text/plain": [
       "1024"
      ]
     },
     "execution_count": 772,
     "metadata": {},
     "output_type": "execute_result"
    }
   ],
   "source": [
    "len(cat)"
   ]
  },
  {
   "cell_type": "code",
   "execution_count": 774,
   "id": "694fd740",
   "metadata": {},
   "outputs": [
    {
     "data": {
      "text/plain": [
       "15     NaN\n",
       "21     NaN\n",
       "28     NaN\n",
       "29     NaN\n",
       "30     NaN\n",
       "        ..\n",
       "3468   NaN\n",
       "3473   NaN\n",
       "3475   NaN\n",
       "3478   NaN\n",
       "3480   NaN\n",
       "Name: magnitude, Length: 1024, dtype: float64"
      ]
     },
     "execution_count": 774,
     "metadata": {},
     "output_type": "execute_result"
    }
   ],
   "source": [
    "cat.magnitude"
   ]
  },
  {
   "cell_type": "code",
   "execution_count": 197,
   "id": "8e4d91ab",
   "metadata": {},
   "outputs": [
    {
     "name": "stdout",
     "output_type": "stream",
     "text": [
      "260\n",
      "1100\n"
     ]
    }
   ],
   "source": [
    "minlocerr_km = 0.01; #% average min location error added to the rupture area (in km).\n",
    "minlocerr_m = minlocerr_km * 1000\n",
    "\n",
    "cat['dHorz'] = [np.max([dX,dY,minlocerr_m]) for dX,dY in zip(cat.dX, cat.dY)]\n",
    "cat['locerr'] = [np.max([dX,dY,dZ,minlocerr_m]) for dX,dY,dZ in zip(cat.dX, cat.dY, cat.dZ)]\n",
    "cat['dHorz2'] = [np.max([dX,dY]) for dX,dY in zip(cat.dX, cat.dY)]\n",
    "\n",
    "\n",
    "\n",
    "cat_crit = pd.DataFrame()\n",
    "plot = 0\n",
    "ntype1 = 0\n",
    "\n",
    "for enum,cl in enumerate(np.unique(cat.Cluster_2)):\n",
    "# for enum,cl in enumerate([31]):\n",
    "# for enum,cl in enumerate(['R1.0123.44.0']):\n",
    "# for enum,cl in enumerate(['R1.0538.178.0.C']):    \n",
    "\n",
    "    cat_clus00 = cat[cat.Cluster_2==cl]\n",
    "\n",
    "    cat_clus00.Cluster = cat_clus00.Cluster_2\n",
    "    cat_clus0 = RemoveMagnitudes(cat_clus00,verbose=0)\n",
    "    cat_clus0.reset_index(inplace=True)\n",
    "\n",
    "    if len(cat_clus0)>1:\n",
    "\n",
    "        dmag = 0.1\n",
    "\n",
    "        drad=(2 * calcRadius(np.median(cat_clus0.magnitude))+dmag)    \n",
    "        med_dist = drad\n",
    "        cat_clus,numFalse = removeOutside(cat_clus0,med_dist)\n",
    "        cat_clus.reset_index(inplace=True)\n",
    "\n",
    "\n",
    "        lon = np.array(cat_clus.long)\n",
    "        lat = np.array(cat_clus.lat)\n",
    "        med_lat = np.median(cat_clus.lat)\n",
    "        z_m = np.array(cat_clus.depth_km)*1000\n",
    "    \n",
    "        if len(cat_clus)>1:\n",
    "\n",
    "            itake1=1    \n",
    "#             print('itake', itake1)\n",
    "\n",
    "            for j in range(len(cat_clus)):\n",
    "\n",
    "                latc = cat_clus.lat.iloc[j]\n",
    "                longc = cat_clus.long.iloc[j]\n",
    "                depthc_m = cat_clus.depth_km.iloc[j]*1000\n",
    "                mag = cat_clus.magnitude.iloc[j]\n",
    "#                 dmag = cat_clus.dmag.astype(float).iloc[j]\n",
    "#                 dmage = cat_clus.dmage.astype(float).iloc[j]\n",
    "                \n",
    "                \n",
    "                \n",
    "                rad_m=(calcRadius(mag+0.1))\n",
    "                \n",
    "#                 if dmag > -10 :\n",
    "#                     drad =(calcRadius(dmag+dmage)) \n",
    "# #                     print(mag+0.1,dmag+dmage)\n",
    "#                 else:\n",
    "#                     print('k')\n",
    "#                     drad =rad_m;                \n",
    "                drad =rad_m;                \n",
    "                \n",
    "#                 print(drad)\n",
    "                \n",
    "                max_dist = ((drad + cat_clus.locerr.iloc[j]))   \n",
    "\n",
    "\n",
    "                dist_row = [np.sqrt( latlon2meter((latc,longc),(lat[i],lon[i]))**2 + (z_m[i]-depthc_m)**2 ) for i in range(len(cat_clus)) if i!=j]\n",
    "\n",
    "                if j==0:\n",
    "                    dist_rows = dist_row\n",
    "                else:\n",
    "                    dist_rows = np.vstack([dist_rows,dist_row])\n",
    "\n",
    "\n",
    "                inside = np.array(dist_rows) <  max_dist\n",
    "\n",
    "                # print(inside)\n",
    "                if np.min(inside)==0:\n",
    "#                     print('ono')\n",
    "                    itake1=0\n",
    "\n",
    "            if(itake1==1):\n",
    "\n",
    "\n",
    "                ntype1= ntype1+1\n",
    "                cat_crit = cat_crit.append(cat_clus)\n",
    "\n",
    "\n",
    "                if plot:\n",
    "\n",
    "                    fig, [ax,ax2] = plt.subplots(ncols=2,figsize=(8,4))\n",
    "                    plt.subplots_adjust(wspace=1.5)\n",
    "\n",
    "                    ax.set_title(enum)\n",
    "#                     plotLocLatLonError(cat_clus,cat_clus,ax=ax)\n",
    "                    plotLocZoom5(cat_clus,cat_clus,ax=ax)\n",
    "#                     plotDepthLatLonError(cat_clus,cat_clus,ax=ax2,fontsize=12)             \n",
    "                    plotDepthZoom8(cat_clus,cat_clus,ax=ax2)\n",
    "#                     ax2.set_aspect(meters2deg(1,med_lat))\n",
    "\n",
    "\n",
    "                    ax.tick_params(color='g', labelcolor='g')\n",
    "                    for spine in ax.spines.values():\n",
    "                        spine.set_edgecolor('g')    \n",
    "                       \n",
    "                        \n",
    "\n",
    "\n",
    "            else:\n",
    "                if plot:  \n",
    "\n",
    "                    fig, [ax,ax2] = plt.subplots(ncols=2,figsize=(8,4))\n",
    "                    plt.subplots_adjust(wspace=1.5)\n",
    "\n",
    "                    ax.set_title(cl)            \n",
    "#                     plotLocLatLonError(cat_clus,cat_clus,ax=ax)\n",
    "                    plotLocZoom5(cat_clus,cat_clus,ax=ax)\n",
    "                    ax.scatter(longc,latc,marker='x',color='k',s=100)\n",
    "\n",
    "\n",
    "#                     plotDepthLatLonError(cat_clus,cat_clus,ax=ax2,fontsize=12)  \n",
    "                    plotDepthZoom8(cat_clus,cat_clus,ax=ax2)\n",
    "#                     ax2.set_aspect(meters2deg(1,med_lat))\n",
    "                    ax2.scatter(longc,depthc_m,marker='x',color='k',s=1000)\n",
    "\n",
    "\n",
    "                    ax.tick_params(color='red', labelcolor='red')\n",
    "                    for spine in ax.spines.values():\n",
    "                        spine.set_edgecolor('red')                      \n",
    "\n",
    "#         break\n",
    "\n",
    "\n",
    "print(ntype1)\n",
    "print(len(cat_crit))"
   ]
  },
  {
   "cell_type": "code",
   "execution_count": null,
   "id": "78e81e83",
   "metadata": {},
   "outputs": [],
   "source": []
  },
  {
   "cell_type": "code",
   "execution_count": 545,
   "id": "9b25f68f",
   "metadata": {},
   "outputs": [
    {
     "data": {
      "text/plain": [
       "True"
      ]
     },
     "execution_count": 545,
     "metadata": {},
     "output_type": "execute_result"
    }
   ],
   "source": []
  },
  {
   "cell_type": "code",
   "execution_count": null,
   "id": "730f2e43",
   "metadata": {},
   "outputs": [],
   "source": []
  },
  {
   "cell_type": "code",
   "execution_count": null,
   "id": "11902e07",
   "metadata": {},
   "outputs": [],
   "source": [
    "                    \n"
   ]
  },
  {
   "cell_type": "code",
   "execution_count": 199,
   "id": "8c2df7bf",
   "metadata": {},
   "outputs": [
    {
     "data": {
      "text/plain": [
       "0.3740234375"
      ]
     },
     "execution_count": 199,
     "metadata": {},
     "output_type": "execute_result"
    }
   ],
   "source": [
    "getProportionWS21(cat_crit,cat_WS21)"
   ]
  },
  {
   "cell_type": "code",
   "execution_count": 344,
   "id": "a40f740f",
   "metadata": {},
   "outputs": [],
   "source": [
    "# # cat_crit.to_csv('../data/catalogs/Rx10_1station_test.csv')\n",
    "# # cat_crit.to_csv('../data/catalogs/Rx12_2station_BSG.csv')\n",
    "# cat_crit.to_csv('../data/catalogs/Rx12_2station_BSG_noreloc.csv')"
   ]
  },
  {
   "cell_type": "code",
   "execution_count": 443,
   "id": "04f9b2b8",
   "metadata": {},
   "outputs": [],
   "source": [
    "cat_WS21_crit = cat_crit"
   ]
  },
  {
   "cell_type": "code",
   "execution_count": null,
   "id": "61b17c52",
   "metadata": {},
   "outputs": [],
   "source": []
  },
  {
   "cell_type": "markdown",
   "id": "20f1290b",
   "metadata": {},
   "source": [
    "# Second try"
   ]
  },
  {
   "cell_type": "code",
   "execution_count": 454,
   "id": "1558b5c7",
   "metadata": {},
   "outputs": [
    {
     "data": {
      "text/plain": [
       "0.40584415584415584"
      ]
     },
     "execution_count": 454,
     "metadata": {},
     "output_type": "execute_result"
    }
   ],
   "source": [
    "getProportionWS21(cat_crit,cat_WS21_crit)"
   ]
  },
  {
   "cell_type": "code",
   "execution_count": 200,
   "id": "dfcbeb3b",
   "metadata": {},
   "outputs": [
    {
     "data": {
      "image/png": "[encoded data removed]",
      "text/plain": [
       "<Figure size 432x288 with 1 Axes>"
      ]
     },
     "metadata": {
      "needs_background": "light"
     },
     "output_type": "display_data"
    }
   ],
   "source": [
    "from notebook_functions import plotScatterMap, plotScatterMapDepth\n",
    "\n",
    "plotScatterMap(cat_crit)"
   ]
  },
  {
   "cell_type": "code",
   "execution_count": 193,
   "id": "4b0557f8",
   "metadata": {},
   "outputs": [
    {
     "data": {
      "text/plain": [
       "73"
      ]
     },
     "execution_count": 193,
     "metadata": {},
     "output_type": "execute_result"
    }
   ],
   "source": [
    "len(cat_crit[cat_crit.RID!='0'])"
   ]
  },
  {
   "cell_type": "code",
   "execution_count": 457,
   "id": "9209dbc7",
   "metadata": {},
   "outputs": [
    {
     "data": {
      "image/png": "[encoded data removed]",
      "text/plain": [
       "<Figure size 432x288 with 1 Axes>"
      ]
     },
     "metadata": {
      "needs_background": "light"
     },
     "output_type": "display_data"
    }
   ],
   "source": [
    "plotScatterMapDepth(cat_crit)\n",
    "\n",
    "\n",
    "\n"
   ]
  },
  {
   "cell_type": "code",
   "execution_count": 233,
   "id": "445491cf",
   "metadata": {},
   "outputs": [],
   "source": [
    "cat_crit.to_csv('../data/catalogs/cat_test_Rx11.csv')\n",
    "\n",
    "\n"
   ]
  },
  {
   "cell_type": "markdown",
   "id": "53281244",
   "metadata": {},
   "source": [
    "# Previous grading codes"
   ]
  },
  {
   "cell_type": "code",
   "execution_count": null,
   "id": "1fd38624",
   "metadata": {},
   "outputs": [],
   "source": []
  },
  {
   "cell_type": "code",
   "execution_count": 234,
   "id": "a3d45ff6",
   "metadata": {},
   "outputs": [
    {
     "name": "stdout",
     "output_type": "stream",
     "text": [
      "3051 2742\n"
     ]
    }
   ],
   "source": [
    "cat_graded = GradeLocErrorLatLon(cat,verbose=0,plot=0);"
   ]
  },
  {
   "cell_type": "code",
   "execution_count": 235,
   "id": "6c121cea",
   "metadata": {},
   "outputs": [
    {
     "data": {
      "text/plain": [
       "0.8544921875"
      ]
     },
     "execution_count": 235,
     "metadata": {},
     "output_type": "execute_result"
    }
   ],
   "source": [
    "getProportionWS21(cat_graded[cat_graded.Grade!='C'],cat_WS21)"
   ]
  },
  {
   "cell_type": "code",
   "execution_count": 96,
   "id": "951af63b",
   "metadata": {},
   "outputs": [
    {
     "ename": "NameError",
     "evalue": "name 'cat_graded' is not defined",
     "output_type": "error",
     "traceback": [
      "\u001b[0;31m---------------------------------------------------------------------------\u001b[0m",
      "\u001b[0;31mNameError\u001b[0m                                 Traceback (most recent call last)",
      "\u001b[0;32m<ipython-input-96-362974fb7be2>\u001b[0m in \u001b[0;36m<module>\u001b[0;34m\u001b[0m\n\u001b[0;32m----> 1\u001b[0;31m \u001b[0mGradeLocErrorLatLon\u001b[0m\u001b[0;34m(\u001b[0m\u001b[0mcat_graded\u001b[0m\u001b[0;34m,\u001b[0m\u001b[0mverbose\u001b[0m\u001b[0;34m=\u001b[0m\u001b[0;36m0\u001b[0m\u001b[0;34m,\u001b[0m\u001b[0mplot\u001b[0m\u001b[0;34m=\u001b[0m\u001b[0;36m0\u001b[0m\u001b[0;34m)\u001b[0m\u001b[0;34m;\u001b[0m\u001b[0;34m\u001b[0m\u001b[0;34m\u001b[0m\u001b[0m\n\u001b[0m",
      "\u001b[0;31mNameError\u001b[0m: name 'cat_graded' is not defined"
     ]
    }
   ],
   "source": [
    "GradeLocErrorLatLon(cat_graded,verbose=0,plot=0);"
   ]
  },
  {
   "cell_type": "code",
   "execution_count": null,
   "id": "02639c13",
   "metadata": {},
   "outputs": [],
   "source": []
  },
  {
   "cell_type": "code",
   "execution_count": null,
   "id": "5b098d64",
   "metadata": {},
   "outputs": [],
   "source": []
  },
  {
   "cell_type": "code",
   "execution_count": null,
   "id": "a1bd2076",
   "metadata": {},
   "outputs": [],
   "source": []
  },
  {
   "cell_type": "code",
   "execution_count": null,
   "id": "6557de3d",
   "metadata": {},
   "outputs": [],
   "source": []
  },
  {
   "cell_type": "code",
   "execution_count": null,
   "id": "8ede9e9d",
   "metadata": {},
   "outputs": [],
   "source": []
  },
  {
   "cell_type": "markdown",
   "id": "21a0f4f7",
   "metadata": {},
   "source": [
    "# With meters (for relocated catalog)"
   ]
  },
  {
   "cell_type": "code",
   "execution_count": null,
   "id": "eab60189",
   "metadata": {},
   "outputs": [],
   "source": []
  },
  {
   "cell_type": "code",
   "execution_count": 236,
   "id": "b652f6d7",
   "metadata": {},
   "outputs": [
    {
     "data": {
      "text/plain": [
       "984"
      ]
     },
     "execution_count": 236,
     "metadata": {},
     "output_type": "execute_result"
    }
   ],
   "source": [
    "len(cat_WS21_reloc)"
   ]
  },
  {
   "cell_type": "code",
   "execution_count": 34,
   "id": "12a6fae9",
   "metadata": {},
   "outputs": [],
   "source": [
    "# cat = cat_WS21_reloc\n",
    "cat = cat_reloc"
   ]
  },
  {
   "cell_type": "code",
   "execution_count": null,
   "id": "f5b01d93",
   "metadata": {},
   "outputs": [],
   "source": []
  },
  {
   "cell_type": "code",
   "execution_count": 35,
   "id": "2a0d2a68",
   "metadata": {},
   "outputs": [
    {
     "name": "stdout",
     "output_type": "stream",
     "text": [
      "89\n",
      "3158 596\n"
     ]
    }
   ],
   "source": [
    "minlocerr_km = 0.02; #% average min location error added to the rupture area (in km).\n",
    "minlocerr_m = minlocerr_km * 1000\n",
    "\n",
    "cat['dHorz'] = [np.max([dX,dY,minlocerr_m]) for dX,dY in zip(cat.dX, cat.dY)]\n",
    "cat['locerr'] = [np.max([dX,dY,dZ,minlocerr_m]) for dX,dY,dZ in zip(cat.dX, cat.dY, cat.dZ)]\n",
    "cat['dHorz2'] = [np.max([dX,dY]) for dX,dY in zip(cat.dX, cat.dY)]\n",
    "\n",
    "cat_crit = pd.DataFrame()\n",
    "plot = 0\n",
    "ntype1 = 0\n",
    "\n",
    "for cl in np.unique(cat.RID):\n",
    "    \n",
    "    cat_clus = cat[cat.RID==cl]\n",
    "\n",
    "    \n",
    "    x = np.array(cat_clus.X)\n",
    "    y = np.array(cat_clus.Y)\n",
    "    z = np.array(cat_clus.Z)\n",
    "    itake1=1\n",
    "    dmag = 0.1\n",
    "    med_lat = np.median(cat_clus.lat)\n",
    "    for j in range(len(cat_clus)):  \n",
    "        xc = cat_clus.dX.iloc[j]\n",
    "        yc = cat_clus.dY.iloc[j]\n",
    "        zc = cat_clus.dZ.iloc[j]        \n",
    "\n",
    "        rad_m=(calcRadius(cat_clus.magnitude.iloc[j]+dmag))\n",
    "        drad = rad_m    \n",
    "\n",
    "\n",
    "        dist = np.sqrt( (x-xc)**2 + (y-yc)**2 + (z-zc)**2 ) \n",
    "\n",
    "        inside = dist < (drad + cat_clus.locerr.iloc[j])\n",
    "\n",
    "\n",
    "        # print(inside)\n",
    "        if min(inside)==0:\n",
    "            itake1=0\n",
    "        \n",
    "    if(itake1==1):\n",
    "        \n",
    "        ntype1= ntype1+1\n",
    "        cat_crit = cat_crit.append(cat_clus)\n",
    "\n",
    "        if plot:\n",
    "            fig, [ax,ax2] = plt.subplots(ncols=2,figsize=(4,2))\n",
    "            plt.subplots_adjust(wspace=.5)\n",
    "            \n",
    "            ax.set_title(enum)\n",
    "            plotLocZoomMeters(cat_clus,cat_clus,ax=ax) \n",
    "            plotDepthZoomMeters(cat_clus,cat_clus,ax=ax2)\n",
    "            # ax2.set_aspect(meters2deg(1,med_lat))\n",
    "            ax2.axis('equal')\n",
    "            ax.tick_params(color='g', labelcolor='g')\n",
    "            for spine in ax.spines.values():\n",
    "                spine.set_edgecolor('g')        \n",
    "\n",
    "    else:\n",
    "        if plot:\n",
    "            fig, [ax,ax2] = plt.subplots(ncols=2,figsize=(4,2))\n",
    "            plt.subplots_adjust(wspace=.5)\n",
    "\n",
    "            ax.set_title(enum)            \n",
    "            plotLocZoomMeters(cat_clus,cat_clus,ax=ax)\n",
    "            plotDepthZoomMeters(cat_clus,cat_clus,ax=ax2)             \n",
    "            # ax2.set_aspect(meters2deg(1,med_lat))\n",
    "            ax2.axis('equal')\n",
    "            ax.tick_params(color='red', labelcolor='red')\n",
    "            for spine in ax.spines.values():\n",
    "                spine.set_edgecolor('red')             \n",
    "\n",
    "\n",
    "print(ntype1)   \n",
    "print(len(cat),len(cat_crit))"
   ]
  },
  {
   "cell_type": "code",
   "execution_count": null,
   "id": "29e64a57",
   "metadata": {},
   "outputs": [],
   "source": []
  },
  {
   "cell_type": "code",
   "execution_count": null,
   "id": "a461cdf7",
   "metadata": {},
   "outputs": [],
   "source": []
  },
  {
   "cell_type": "markdown",
   "id": "868f4fa2",
   "metadata": {},
   "source": [
    "# Remove outside events"
   ]
  },
  {
   "cell_type": "code",
   "execution_count": 38,
   "id": "8eb453cc",
   "metadata": {},
   "outputs": [
    {
     "name": "stdout",
     "output_type": "stream",
     "text": [
      "250\n"
     ]
    }
   ],
   "source": [
    "ntype1 = 0\n",
    "cat_crit = pd.DataFrame()\n",
    "\n",
    "for cl in np.unique(cat.Cluster_2):\n",
    "    itake1=1\n",
    "\n",
    "\n",
    "    cat_clus = cat[cat.Cluster_2==cl]\n",
    "    cat_clus_keep = pd.DataFrame()\n",
    "    \n",
    "    x = np.array(cat_clus.X)\n",
    "    y = np.array(cat_clus.Y)\n",
    "    z = np.array(cat_clus.Z)\n",
    "    \n",
    "    for j in range(len(cat_clus)):\n",
    "        row = cat_clus.iloc[j]\n",
    "        index = cat_clus.index[j]\n",
    "        dmag = 0.1\n",
    "        rad_m=(calcRadius(row.magnitude+dmag))\n",
    "        drad = rad_m\n",
    "        inside = np.sqrt( (x-row.X)**2 + (y-row.Y)**2 + (z-row.Z)**2 ) < drad + row.locerr;\n",
    "\n",
    "        if min(inside)==0:\n",
    "            itake1=0\n",
    "#             print('remove event')\n",
    "            #             \n",
    "            x = np.array(cat_clus.drop(index).X)\n",
    "            y = np.array(cat_clus.drop(index).Y)\n",
    "            z = np.array(cat_clus.drop(index).Z)\n",
    "            \n",
    "\n",
    "        else:\n",
    "            cat_clus_keep = cat_clus_keep.append(row)\n",
    "    \n",
    "        \n",
    "        \n",
    "    if(itake1==1):\n",
    "        ntype1= ntype1+1\n",
    "        cat_crit = cat_crit.append(cat_clus_keep)\n",
    "\n",
    "print(ntype1)    \n",
    "\n"
   ]
  },
  {
   "cell_type": "code",
   "execution_count": null,
   "id": "f77260ff",
   "metadata": {},
   "outputs": [],
   "source": []
  },
  {
   "cell_type": "code",
   "execution_count": null,
   "id": "a4b872c7",
   "metadata": {},
   "outputs": [],
   "source": []
  },
  {
   "cell_type": "code",
   "execution_count": null,
   "id": "06ce3167",
   "metadata": {},
   "outputs": [],
   "source": [
    "\n",
    "\n",
    "\n",
    "cat_crit_stats = calcDfStats(cat_crit,timeMin=0)\n",
    "\n",
    "cat_crit_stats.magnitude.hist()"
   ]
  },
  {
   "cell_type": "code",
   "execution_count": null,
   "id": "dc68460d",
   "metadata": {},
   "outputs": [],
   "source": []
  },
  {
   "cell_type": "code",
   "execution_count": 96,
   "id": "8a3d50d3",
   "metadata": {},
   "outputs": [],
   "source": [
    "cat = cat_WS21"
   ]
  },
  {
   "cell_type": "code",
   "execution_count": 97,
   "id": "50c4f362",
   "metadata": {},
   "outputs": [
    {
     "data": {
      "text/plain": [
       "Index(['Cluster_2', 'event_ID', 'isAnyRepeater', 'YR', 'MO', 'DY', 'HR', 'MN',\n",
       "       'SC', 'DAYS', 'LAT', 'LON', 'DEP', 'dX', 'dY', 'dZ', 'MAG', 'dmag',\n",
       "       'dmage', 'CCm', 'evID', 'REQS_ID', 'year', 'month', 'day', 'hour',\n",
       "       'minute', 'second', 'lat', 'long', 'depth_km', 'magnitude', 'timestamp',\n",
       "       'RID', 'dHorz', 'locerr', 'dHorz2'],\n",
       "      dtype='object')"
      ]
     },
     "execution_count": 97,
     "metadata": {},
     "output_type": "execute_result"
    }
   ],
   "source": [
    "cat.columns"
   ]
  },
  {
   "cell_type": "markdown",
   "id": "c591ef86",
   "metadata": {},
   "source": [
    "# Adapt my code with Felix's criteria"
   ]
  },
  {
   "cell_type": "code",
   "execution_count": null,
   "id": "1db43314",
   "metadata": {},
   "outputs": [],
   "source": [
    "from matplotlib.ticker import FormatStrFormatter"
   ]
  },
  {
   "cell_type": "code",
   "execution_count": 191,
   "id": "7d26ff37",
   "metadata": {},
   "outputs": [],
   "source": []
  },
  {
   "cell_type": "code",
   "execution_count": 207,
   "id": "20a90b3d",
   "metadata": {},
   "outputs": [],
   "source": []
  },
  {
   "cell_type": "code",
   "execution_count": null,
   "id": "560248d3",
   "metadata": {},
   "outputs": [],
   "source": []
  },
  {
   "cell_type": "code",
   "execution_count": null,
   "id": "1bf729ac",
   "metadata": {},
   "outputs": [],
   "source": []
  },
  {
   "cell_type": "code",
   "execution_count": 200,
   "id": "cf99618c",
   "metadata": {},
   "outputs": [],
   "source": [
    "cat = cat_reloc\n",
    "# cat = cat_WS21_reloc"
   ]
  },
  {
   "cell_type": "code",
   "execution_count": 201,
   "id": "df7d7f65",
   "metadata": {},
   "outputs": [
    {
     "name": "stdout",
     "output_type": "stream",
     "text": [
      "3041 710\n"
     ]
    }
   ],
   "source": [
    "cat_WS21_reloc_passed = GradeFelLocErrorLatLon(cat,plot=1)"
   ]
  },
  {
   "cell_type": "code",
   "execution_count": null,
   "id": "8ca71a69",
   "metadata": {},
   "outputs": [],
   "source": []
  },
  {
   "cell_type": "code",
   "execution_count": 205,
   "id": "4f18f232",
   "metadata": {},
   "outputs": [
    {
     "data": {
      "text/plain": [
       "<AxesSubplot:>"
      ]
     },
     "execution_count": 205,
     "metadata": {},
     "output_type": "execute_result"
    },
    {
     "data": {
      "image/png": "[encoded data removed]",
      "text/plain": [
       "<Figure size 432x288 with 1 Axes>"
      ]
     },
     "metadata": {
      "needs_background": "light"
     },
     "output_type": "display_data"
    }
   ],
   "source": []
  },
  {
   "cell_type": "code",
   "execution_count": null,
   "id": "c7c38d64",
   "metadata": {},
   "outputs": [],
   "source": []
  }
 ],
 "metadata": {
  "kernelspec": {
   "display_name": "Python 3",
   "language": "python",
   "name": "python3"
  },
  "language_info": {
   "codemirror_mode": {
    "name": "ipython",
    "version": 3
   },
   "file_extension": ".py",
   "mimetype": "text/x-python",
   "name": "python",
   "nbconvert_exporter": "python",
   "pygments_lexer": "ipython3",
   "version": "3.7.8"
  }
 },
 "nbformat": 4,
 "nbformat_minor": 5
}
