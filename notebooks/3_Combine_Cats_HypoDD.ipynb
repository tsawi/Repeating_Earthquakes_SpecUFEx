{
 "cells": [
  {
   "cell_type": "markdown",
   "metadata": {},
   "source": [
    "# Combine stations "
   ]
  },
  {
   "cell_type": "code",
   "execution_count": 2,
   "metadata": {},
   "outputs": [],
   "source": [
    "import pandas as pd\n",
    "import numpy as np\n",
    "from matplotlib import pyplot as plt\n",
    "import sys\n",
    "from matplotlib.lines import Line2D\n",
    "from matplotlib.ticker import FormatStrFormatter\n",
    "from scipy.spatial.distance import euclidean\n",
    "import matplotlib.gridspec as gridspec\n",
    "import os\n",
    "\n",
    "\n",
    "from scipy.spatial.distance import euclidean\n",
    "\n",
    "# from utils_crosssection import cross_section,project_onto_cs,compute_longlat_along_axis\n",
    "\n",
    "sys.path.append('src/')\n",
    "from notebook_functions import getFP, getSgram,plotCumul2,findStationHypDist, plotMedianBins,findEventPairHypDist,plotLocZoomMeters,plotDepthZoomMeters,calcRadius\n",
    "from notebook_functions import calcRadius, latlon2meter,calcCCMatrix,calcCCMatrixFP, plotStem3,addRID\n",
    "from notebook_functions import plotLocZoom4, plotCircleDepth,plotDepthZoom7, formatWS2021,getProportionWS21\n",
    "\n",
    "\n",
    "\n",
    "from notebook_functions import GradeLocErrorLatLon, plotDepthZoom8, calcCCMatrix, plotLocZoom5, plotStem5, plotClusWF6,calcDfStats2, calcDfStats\n",
    "from matplotlib.gridspec import GridSpec\n"
   ]
  },
  {
   "cell_type": "code",
   "execution_count": 3,
   "metadata": {},
   "outputs": [],
   "source": [
    "## figure specs\n",
    "\n",
    "#quarter pagea\n",
    "width1 = 3.74016\n",
    "height1 = 4.52756\n",
    "\n",
    "#full page\n",
    "width2 = 7.48031\n",
    "height2 = 9.05512"
   ]
  },
  {
   "cell_type": "markdown",
   "metadata": {},
   "source": [
    "## Load and format 2014 and NCSN catalog\n"
   ]
  },
  {
   "cell_type": "code",
   "execution_count": 5,
   "metadata": {},
   "outputs": [],
   "source": [
    "cat_NCSN = pd.read_csv('../data/catalogs/NCADDiff_5km_2019_500mFault_WS21.csv')\n",
    "\n"
   ]
  },
  {
   "cell_type": "code",
   "execution_count": 6,
   "metadata": {},
   "outputs": [
    {
     "name": "stdout",
     "output_type": "stream",
     "text": [
      "27674 repeater earthquakes in 7714  sequences\n"
     ]
    },
    {
     "data": {
      "text/plain": [
       "1024"
      ]
     },
     "execution_count": 6,
     "metadata": {},
     "output_type": "execute_result"
    }
   ],
   "source": [
    "\n",
    "cat_rep_2014_df =  formatWS2021('../data/catalogs/NCA_REPQcat_20210919_noMeta_v2.csv')\n",
    "\n",
    "cat_WS21 = cat_NCSN[cat_NCSN.event_ID.astype('int').isin(list(cat_rep_2014_df.event_ID))]\n",
    "\n",
    "len(cat_WS21)"
   ]
  },
  {
   "cell_type": "markdown",
   "metadata": {},
   "source": [
    "# Load station catalogs with repeaters"
   ]
  },
  {
   "cell_type": "code",
   "execution_count": 10,
   "metadata": {},
   "outputs": [
    {
     "data": {
      "text/plain": [
       "(2512, 2354, 2000, 1602, 1596, 1504, 1192)"
      ]
     },
     "execution_count": 10,
     "metadata": {},
     "output_type": "execute_result"
    }
   ],
   "source": [
    "\n",
    "cat_BAV = pd.read_csv('../data/catalogs/SA_REQS_v28_updatedCat_MaxExp_WSloc_2.csv')\n",
    "cat_BRV = pd.read_csv('../data/catalogs/SA_REQS_v28_BRV_updatedCat_MaxExp_WSloc_2.csv')\n",
    "cat_BBN = pd.read_csv('../data/catalogs/SA_REQS_v28_BBN_updatedCat_MaxExp_WSloc_2.csv')\n",
    "cat_BPI = pd.read_csv('../data/catalogs/SA_REQS_v28_BPI_updatedCat_MaxExp_WSloc_2.csv')\n",
    "cat_BSG = pd.read_csv('../data/catalogs/SA_REQS_v28_BSG_updatedCat_MaxExp_WSloc_2.csv')\n",
    "cat_BEM = pd.read_csv('../data/catalogs/SA_REQS_v28_BEM_updatedCat_MaxExp_WSloc_2.csv')\n",
    "cat_BVL = pd.read_csv('../data/catalogs/SA_REQS_v28_BVL_updatedCat_MaxExp_WSloc_2.csv')\n",
    "\n",
    "cat_BAV['Station'] = ['BAV' for i in range(len(cat_BAV))]\n",
    "cat_BPI['Station'] = ['BPI' for i in range(len(cat_BPI))]\n",
    "cat_BRV['Station'] = ['BRV' for i in range(len(cat_BRV))]\n",
    "cat_BBN['Station'] = ['BBN' for i in range(len(cat_BBN))]\n",
    "cat_BSG['Station'] = ['BSG' for i in range(len(cat_BSG))]\n",
    "cat_BEM['Station'] = ['BEM' for i in range(len(cat_BEM))]\n",
    "cat_BVL['Station'] = ['BVL' for i in range(len(cat_BVL))]\n",
    "\n",
    "\n",
    "cat_BAV['Cluster'] = [str(c) + '_BAV' for c in cat_BAV.Cluster]\n",
    "cat_BPI['Cluster'] = [str(c) + '_BPI' for c in cat_BPI.Cluster]\n",
    "cat_BRV['Cluster'] = [str(c) + '_BRV' for c in cat_BRV.Cluster]\n",
    "cat_BBN['Cluster'] = [str(c) + '_BBN' for c in cat_BBN.Cluster]\n",
    "cat_BSG['Cluster'] = [str(c) + '_BSG' for c in cat_BSG.Cluster]\n",
    "cat_BEM['Cluster'] = [str(c) + '_BEM' for c in cat_BEM.Cluster]\n",
    "cat_BVL['Cluster'] = [str(c) + '_BVL' for c in cat_BVL.Cluster]\n",
    "\n",
    "len(cat_BSG),len(cat_BVL),len(cat_BPI),len(cat_BRV),len(cat_BAV),len(cat_BEM),len(cat_BBN)\n"
   ]
  },
  {
   "cell_type": "code",
   "execution_count": 11,
   "metadata": {},
   "outputs": [
    {
     "name": "stdout",
     "output_type": "stream",
     "text": [
      "834\n",
      "761\n",
      "622\n",
      "595\n",
      "558\n",
      "583\n",
      "429\n"
     ]
    }
   ],
   "source": [
    "cat_BSG = addRID(cat_BSG,cat_rep_2014_df)\n",
    "cat_BVL = addRID(cat_BVL,cat_rep_2014_df)\n",
    "cat_BPI = addRID(cat_BPI,cat_rep_2014_df)\n",
    "cat_BEM = addRID(cat_BEM,cat_rep_2014_df)\n",
    "cat_BRV = addRID(cat_BRV,cat_rep_2014_df)\n",
    "cat_BAV = addRID(cat_BAV,cat_rep_2014_df)\n",
    "cat_BBN = addRID(cat_BBN,cat_rep_2014_df)\n",
    "\n",
    "\n"
   ]
  },
  {
   "cell_type": "markdown",
   "metadata": {},
   "source": [
    "# What proportion of WS21 are these catalogs?"
   ]
  },
  {
   "cell_type": "code",
   "execution_count": 12,
   "metadata": {},
   "outputs": [],
   "source": [
    "list_cats1=[cat_BAV,cat_BPI,cat_BRV,cat_BBN,cat_BSG,cat_BEM,cat_BVL]\n",
    "list_cats2=[cat_BPI,cat_BRV,cat_BBN,cat_BSG,cat_BEM,cat_BVL,cat_BAV]\n",
    "list_cats3=[cat_BRV,cat_BBN,cat_BSG,cat_BEM,cat_BVL,cat_BAV,cat_BPI]\n",
    "list_cats4=[cat_BBN,cat_BSG,cat_BEM,cat_BVL,cat_BAV,cat_BPI,cat_BRV]\n",
    "list_cats5=[cat_BSG,cat_BEM,cat_BVL,cat_BAV,cat_BPI,cat_BRV,cat_BBN]\n",
    "list_cats6=[cat_BEM,cat_BVL,cat_BSG,cat_BAV,cat_BPI,cat_BRV,cat_BBN]\n",
    "list_cats7=[cat_BVL,cat_BEM,cat_BSG,cat_BAV,cat_BPI,cat_BRV,cat_BBN]\n",
    "\n",
    "\n",
    "list_list_cats = [list_cats1,list_cats2,list_cats3,list_cats4,list_cats6,list_cats7]"
   ]
  },
  {
   "cell_type": "code",
   "execution_count": 13,
   "metadata": {},
   "outputs": [
    {
     "name": "stderr",
     "output_type": "stream",
     "text": [
      "/Users/theresasawi/opt/anaconda3/envs/seismo2/lib/python3.7/site-packages/ipykernel_launcher.py:12: UserWarning: FixedFormatter should only be used together with FixedLocator\n",
      "  if sys.path[0] == '':\n"
     ]
    },
    {
     "data": {
      "text/plain": [
       "Text(0.5, 1.0, 'Maximum: 0.9844')"
      ]
     },
     "execution_count": 13,
     "metadata": {},
     "output_type": "execute_result"
    },
    {
     "data": {
      "image/png": "[encoded data removed]",
      "text/plain": [
       "<Figure size 432x288 with 1 Axes>"
      ]
     },
     "metadata": {
      "needs_background": "light"
     },
     "output_type": "display_data"
    }
   ],
   "source": [
    "\n",
    "\n",
    "for list_cats in list_list_cats:\n",
    "    cat_comb_temp = pd.DataFrame()\n",
    "    list_props = []    \n",
    "    for stat in list_cats:\n",
    "        cat_comb_temp = cat_comb_temp.append(stat)\n",
    "        prop = getProportionWS21(cat_comb_temp.drop_duplicates('event_ID'),cat_WS21)\n",
    "#         print(prop)\n",
    "        list_props.append(prop)\n",
    "        plt.plot(list_props,'o-');\n",
    "        \n",
    "ax = plt.gca()\n",
    "ax.set_xticklabels(['1st','2nd','3rd','4th','5th','6th','7th'])\n",
    "ax.set_xticks(range(len(list_props)));\n",
    "ax.set_xlabel('Station')\n",
    "ax.set_ylabel('Proportion catalog recovered')\n",
    "ax.grid('on')\n",
    "ax.set_title(f\"Maximum: {max(list_props):.4f}\")\n",
    "# plt.savefig('../reports/figures/percentRecovered_numStations.png')"
   ]
  },
  {
   "cell_type": "code",
   "execution_count": 14,
   "metadata": {},
   "outputs": [
    {
     "data": {
      "text/plain": [
       "[0.814453125,\n",
       " 0.7431640625,\n",
       " 0.607421875,\n",
       " 0.544921875,\n",
       " 0.5693359375,\n",
       " 0.5810546875,\n",
       " 0.4189453125]"
      ]
     },
     "execution_count": 14,
     "metadata": {},
     "output_type": "execute_result"
    }
   ],
   "source": [
    "\n",
    "stat_list = [cat_BSG,cat_BVL,cat_BPI,cat_BRV,cat_BAV,cat_BEM,cat_BBN] # in descending order of proportion of WS21\n",
    "\n",
    "props = [getProportionWS21(catt,cat_WS21) for catt in stat_list]\n",
    "props\n"
   ]
  },
  {
   "cell_type": "markdown",
   "metadata": {},
   "source": [
    "# Count number of stations recorded at"
   ]
  },
  {
   "cell_type": "code",
   "execution_count": 15,
   "metadata": {},
   "outputs": [],
   "source": [
    "\n",
    "cat_comb = pd.concat(stat_list)\n",
    "\n",
    "\n",
    "cat_comb_ev = cat_comb.sort_values('event_ID')"
   ]
  },
  {
   "cell_type": "code",
   "execution_count": 18,
   "metadata": {},
   "outputs": [
    {
     "name": "stdout",
     "output_type": "stream",
     "text": [
      "0\n",
      "300\n",
      "600\n",
      "900\n",
      "1200\n",
      "1500\n",
      "1800\n",
      "2100\n",
      "2400\n",
      "2700\n",
      "3000\n",
      "3300\n"
     ]
    }
   ],
   "source": [
    "\n",
    "\n",
    "\n",
    "cat_comb_ev_stat = pd.DataFrame()\n",
    "with pd.option_context('mode.chained_assignment', None): #supress SettingWithCopyWarning\n",
    "    \n",
    "    for i, ev in enumerate(np.unique(cat_comb_ev.event_ID)):\n",
    "        if i%300==0:\n",
    "            print(i, '/', len(np.unique(cat_comb_ev.event_ID)))\n",
    "\n",
    "        df = cat_comb_ev[cat_comb_ev.event_ID == ev].copy()\n",
    "\n",
    "        df[['BAV', 'BRV', 'BBN', 'BPI', 'BSG', 'BEM', 'BVL']] = np.zeros((len(df), 7)) # order of stations not important\n",
    "\n",
    "        for j, stat in enumerate(df.Station):\n",
    "            df[f'{stat}'].iloc[:] = 1\n",
    "\n",
    "        cat_comb_ev_stat = cat_comb_ev_stat.append(df)  \n"
   ]
  },
  {
   "cell_type": "code",
   "execution_count": 19,
   "metadata": {},
   "outputs": [],
   "source": [
    "\n",
    "columns_keep3=['event_ID',\n",
    "                'RID',\n",
    "                'lat',\n",
    "                'long',\n",
    "                'depth_km',\n",
    "                'dX', 'dY', 'dZ',\n",
    "                'year',\n",
    "                'month',\n",
    "                'day',\n",
    "                'hour',\n",
    "                'minute',\n",
    "                'second',\n",
    "                'magnitude',\n",
    "                'Cluster',\n",
    "                'Station',\n",
    "                'BAV',\n",
    "                'BPI',\n",
    "                'BBN',\n",
    "                'BRV',\n",
    "                'BSG',\n",
    "                'BEM',\n",
    "                'BVL',\n",
    "                'NumStations']\n",
    "\n",
    "cat_comb_ev_stat['NumStations'] = cat_comb_ev_stat.iloc[:,-7:].sum(axis=1)    \n",
    "\n",
    "cat_comb_ev_stat_trim = cat_comb_ev_stat[columns_keep3]\n",
    "\n",
    "cat_BPI2 = cat_BPI.merge(cat_comb_ev_stat_trim,how='left')\n",
    "cat_BAV2 = cat_BAV.merge(cat_comb_ev_stat_trim,how='left')\n",
    "cat_BBN2 = cat_BBN.merge(cat_comb_ev_stat_trim,how='left')\n",
    "cat_BRV2 = cat_BRV.merge(cat_comb_ev_stat_trim,how='left')\n",
    "cat_BSG2 = cat_BSG.merge(cat_comb_ev_stat_trim,how='left')\n",
    "cat_BEM2 = cat_BEM.merge(cat_comb_ev_stat_trim,how='left')\n",
    "cat_BVL2 = cat_BVL.merge(cat_comb_ev_stat_trim,how='left')\n",
    "\n",
    "\n",
    "\n",
    "\n"
   ]
  },
  {
   "cell_type": "code",
   "execution_count": 20,
   "metadata": {},
   "outputs": [
    {
     "data": {
      "text/plain": [
       "False"
      ]
     },
     "execution_count": 20,
     "metadata": {},
     "output_type": "execute_result"
    }
   ],
   "source": [
    "# check for singleton clusters -- would be bad\n",
    "\n",
    "lenClus = []\n",
    "\n",
    "for clus in set(cat_BSG2.Cluster):\n",
    "    lc = len(cat_BSG2[cat_BSG2.Cluster==clus])\n",
    "\n",
    "    lenClus.append(lc)\n",
    "    \n",
    "    if lc == 1:\n",
    "        break\n",
    "    \n",
    "    \n",
    "    \n",
    "1 in lenClus\n",
    "\n"
   ]
  },
  {
   "cell_type": "markdown",
   "metadata": {},
   "source": [
    "# Combine 7 catalogs"
   ]
  },
  {
   "cell_type": "code",
   "execution_count": 21,
   "metadata": {},
   "outputs": [],
   "source": [
    "def addEventClusters(cat_add,cat_BXX4):\n",
    "\n",
    "    for i, ev in enumerate(cat_add.event_ID):\n",
    "\n",
    "\n",
    "        if ev not in list(cat_BXX4.event_ID):\n",
    "    #         print(ev)\n",
    "            df = cat_add[cat_add.event_ID==ev]\n",
    "            cl = df.Cluster.iloc[0]\n",
    "            df_cl = cat_add[cat_add.Cluster==cl]   \n",
    "\n",
    "\n",
    "            if any(i in list(cat_BXX4.event_ID) for i in list(df_cl.event_ID)):\n",
    "\n",
    "                for ev in list(df_cl.event_ID):\n",
    "                    try:\n",
    "\n",
    "                        clus_new = cat_BXX4[cat_BXX4.event_ID==ev].Cluster.iloc[0]\n",
    "\n",
    "                        df_cl.Cluster.iloc[:] = clus_new\n",
    "\n",
    "                    except:\n",
    "                        pass\n",
    "\n",
    "            cat_BXX4 = cat_BXX4.append(df_cl)\n",
    "\n",
    "    cat_BXX4.drop_duplicates(['event_ID'],inplace=True)\n",
    "    return cat_BXX4"
   ]
  },
  {
   "cell_type": "code",
   "execution_count": 22,
   "metadata": {},
   "outputs": [],
   "source": [
    "stat_list2 = [cat_BSG2,cat_BVL2,cat_BPI2,cat_BRV2,cat_BAV2,cat_BEM2,cat_BBN2]\n"
   ]
  },
  {
   "cell_type": "code",
   "execution_count": null,
   "metadata": {},
   "outputs": [],
   "source": [
    "\n",
    "## this block takes awhile\n",
    "\n",
    "\n",
    "cat_BSG3 = cat_BSG2.copy()\n",
    "with pd.option_context('mode.chained_assignment', None): #supress SettingWithCopyWarning\n",
    "\n",
    "    for i, ev in enumerate(cat_BSG2.event_ID):\n",
    "\n",
    "        if i%300==0:\n",
    "            print(i, '/', len(cat_BSG2.event_ID))\n",
    "\n",
    "        df = cat_BSG2[cat_BSG2.event_ID==ev]\n",
    "        clus = df.Cluster.iloc[0]\n",
    "\n",
    "        for statcat in stat_list2[1:]:\n",
    "            try:        \n",
    "                cl = statcat[statcat.event_ID==ev].Cluster.iloc[0].copy()\n",
    "                df_cl = statcat[statcat.Cluster==cl].copy()\n",
    "                df_cl.Cluster = clus\n",
    "                df = df.append(df_cl)\n",
    "                cat_BSG3 = cat_BSG3.append(df)\n",
    "            except:\n",
    "                pass\n",
    "\n",
    "    cat_BSG4 = cat_BSG3.copy()      \n",
    "\n",
    "    for statcat in stat_list2[1:]: \n",
    "        cat_BSG4 = addEventClusters(statcat,cat_BSG4)\n",
    "\n",
    "\n",
    "os.system(\"say 'program complete'\")\n",
    "len(cat_BSG4)"
   ]
  },
  {
   "cell_type": "code",
   "execution_count": null,
   "metadata": {},
   "outputs": [],
   "source": [
    "# check for singleton clusters -- would be bad\n",
    "\n",
    "\n",
    "lenClus = []\n",
    "\n",
    "for clus in set(cat_BSG4.Cluster):\n",
    "    lc = len(cat_BSG4[cat_BSG4.Cluster==clus])\n",
    "\n",
    "    lenClus.append(lc)\n",
    "    \n",
    "    if lc == 1:\n",
    "        break\n",
    "    \n",
    "    \n",
    "    \n",
    "1 in lenClus\n",
    "\n"
   ]
  },
  {
   "cell_type": "markdown",
   "metadata": {},
   "source": [
    "# Check for duplicates"
   ]
  },
  {
   "cell_type": "code",
   "execution_count": null,
   "metadata": {},
   "outputs": [],
   "source": [
    "cat_clus_all_nodupes = cat_BSG4.drop_duplicates('event_ID').sort_values(by='Cluster')[columns_keep3]\n",
    "\n",
    "len(cat_BSG4), len(cat_BSG4.drop_duplicates('event_ID'))"
   ]
  },
  {
   "cell_type": "code",
   "execution_count": null,
   "metadata": {},
   "outputs": [],
   "source": [
    "# check for singleton clusters -- would be bad\n",
    "\n",
    "lenClus = []\n",
    "\n",
    "for clus in set(cat_clus_all_nodupes.Cluster):\n",
    "    lc = len(cat_clus_all_nodupes[cat_clus_all_nodupes.Cluster==clus])\n",
    "\n",
    "    lenClus.append(lc)\n",
    "    \n",
    "    if lc == 1:\n",
    "        break\n",
    "    \n",
    "    \n",
    "    \n",
    "1 in lenClus\n",
    "\n"
   ]
  },
  {
   "cell_type": "markdown",
   "metadata": {},
   "source": [
    "# We allow for single-station detections"
   ]
  },
  {
   "cell_type": "code",
   "execution_count": null,
   "metadata": {},
   "outputs": [],
   "source": [
    "\n",
    "numStationsDetect = 1\n",
    "\n",
    "cat_clus_all_nodupes_2stations = cat_clus_all_nodupes[cat_clus_all_nodupes.NumStations>=numStationsDetect]\n",
    "\n",
    "print(len(cat_clus_all_nodupes_2stations), len(cat_clus_all_nodupes))\n",
    "\n",
    "getProportionWS21(cat_clus_all_nodupes_2stations,cat_WS21)"
   ]
  },
  {
   "cell_type": "markdown",
   "metadata": {},
   "source": [
    "# Most repeating earthquakes are detected at more than one station"
   ]
  },
  {
   "cell_type": "code",
   "execution_count": 36,
   "metadata": {},
   "outputs": [
    {
     "data": {
      "text/plain": [
       "(3340, 3340)"
      ]
     },
     "execution_count": 36,
     "metadata": {},
     "output_type": "execute_result"
    }
   ],
   "source": [
    "h = plt.hist(cat_clus_all_nodupes_2stations.NumStations,bins=np.arange(7),color='k')\n"
   ]
  },
  {
   "cell_type": "code",
   "execution_count": 38,
   "metadata": {},
   "outputs": [
    {
     "data": {
      "image/png": "[encoded data removed]",
      "text/plain": [
       "<Figure size 432x288 with 1 Axes>"
      ]
     },
     "metadata": {
      "needs_background": "light"
     },
     "output_type": "display_data"
    }
   ],
   "source": []
  },
  {
   "cell_type": "markdown",
   "metadata": {},
   "source": [
    "# Convert timestamps to pandas datetimes"
   ]
  },
  {
   "cell_type": "code",
   "execution_count": 43,
   "metadata": {},
   "outputs": [],
   "source": [
    "cat_clus_all_nodupes = cat_clus_all_nodupes_2stations\n",
    "\n",
    "cat_clus_all_nodupes['timestamp'] = pd.to_datetime(cat_clus_all_nodupes[['year','month','day','hour','minute','second']])\n",
    "cat_clus_all_nodupes['timestamp_index'] = pd.to_datetime(cat_clus_all_nodupes[['year','month','day','hour','minute','second']])\n",
    "cat_clus_all_nodupes.set_index('timestamp_index',inplace=True)\n",
    "\n",
    "\n",
    "cat_clus_ALL_stats_RID = cat_clus_all_nodupes[cat_clus_all_nodupes.RID!='0']\n",
    "cat_clus_ALL_stats_noRID = cat_clus_all_nodupes[cat_clus_all_nodupes.RID=='0']\n",
    "\n"
   ]
  },
  {
   "cell_type": "markdown",
   "metadata": {},
   "source": [
    "# Plot cumulative number of repeating earthquakes over time"
   ]
  },
  {
   "cell_type": "code",
   "execution_count": 45,
   "metadata": {},
   "outputs": [
    {
     "data": {
      "text/plain": [
       "Text(0, 0.5, 'Cumalitive # earthquakes')"
      ]
     },
     "execution_count": 45,
     "metadata": {},
     "output_type": "execute_result"
    },
    {
     "data": {
      "image/png": "[encoded data removed]",
      "text/plain": [
       "<Figure size 720x720 with 1 Axes>"
      ]
     },
     "metadata": {
      "needs_background": "light"
     },
     "output_type": "display_data"
    }
   ],
   "source": [
    "\n",
    "\n",
    "plt.figure(figsize=(10,10))\n",
    "ax4=plt.gca()\n",
    "\n",
    "\n",
    "\n",
    "\n",
    "slope, r, dates = plotCumul2(cat_clus_ALL_stats_noRID,'blue','lightblue',ax=ax4);\n",
    "ax4.text(dates[-1],len(cat_clus_ALL_stats_noRID),s=f\"{slope:.1f} REQs/year \\n r$^2$={r:.3f}\",color='blue')\n",
    "\n",
    "slope2, r2, dates2 = plotCumul2(cat_clus_ALL_stats_RID,'red','salmon',ax=ax4);\n",
    "ax4.text(dates2[-1],len(cat_clus_ALL_stats_RID)-200,s=f\"{slope2:.1f} REQs/year \\n r$^2$={r2:.3f}\",color='r')\n",
    "\n",
    "\n",
    "## oops need to convert these to pandas timestamps\n",
    "# slope3, r3, dates3 = plotCumul2(cat_WS21,'k','gray',ax=ax4);\n",
    "# ax4.text(dates3[-1],len(cat_WS21),s=f\"{slope3:.1f} REQs/year \\n r$^2$={r3:.3f}\",color='k')\n",
    "\n",
    "slope4, r4, dates4 = plotCumul2(cat_clus_all_nodupes,'fuchsia','gray',ax=ax4);\n",
    "ax4.text(dates[-1],len(cat_clus_all_nodupes),s=f\"{slope4:.1f} REQs/year \\n r$^2$={r4:.3f}\",color='fuchsia')\n",
    "\n",
    "\n",
    "\n",
    "legend_elements = [\n",
    "                   Line2D([0], [0], marker='.', color='blue', label=r'New REQs',markerfacecolor='blue', markersize=10,lw=0),                                      \n",
    "                   Line2D([0], [0], marker='.', color='r', label=r'Recovered REQs',markerfacecolor='salmon', markersize=10,lw=0),\n",
    "                   Line2D([0], [0], marker='.', color='k', label='WS2021',markerfacecolor='gray', markersize=10,lw=0),\n",
    "                   Line2D([0], [0], marker='.', color='fuchsia', label='This Study',markerfacecolor='fuchsia', markersize=10,lw=0)]\n",
    "\n",
    "\n",
    "ax4.legend(handles=legend_elements)\n",
    "# ax4.set_ylim(0,1100)\n",
    "ax4.grid('on')\n",
    "ax4.set_ylabel('Cumalitive # earthquakes')    \n"
   ]
  },
  {
   "cell_type": "markdown",
   "metadata": {},
   "source": [
    "# Rename clusters (and calculate cluster statistics)"
   ]
  },
  {
   "cell_type": "code",
   "execution_count": 48,
   "metadata": {},
   "outputs": [
    {
     "name": "stdout",
     "output_type": "stream",
     "text": [
      "0/496\n",
      "50/496\n",
      "100/496\n",
      "150/496\n",
      "200/496\n",
      "250/496\n",
      "300/496\n",
      "350/496\n",
      "400/496\n",
      "450/496\n",
      "3340 3340\n"
     ]
    }
   ],
   "source": [
    "cat_clus_all_nodupes['Cluster_2'] = [cl for cl in cat_clus_all_nodupes.Cluster]\n",
    "cat_clus_all_nodupes = calcDfStats(cat_clus_all_nodupes,timeMin=0)\n",
    "\n",
    "cat_fin = pd.DataFrame()\n",
    "\n",
    "\n",
    "clus_name = 0\n",
    "\n",
    "len_cluster = []\n",
    "\n",
    "for i,clus in enumerate(set(cat_clus_all_nodupes.Cluster)):\n",
    "    \n",
    "    clus_name = f\"{i:05d}\"\n",
    "\n",
    "    df_cl = cat_clus_all_nodupes[cat_clus_all_nodupes.Cluster==clus]\n",
    "    \n",
    "    df_cl['Cluster_2'] = clus_name\n",
    "    \n",
    "    \n",
    "    len_cluster.append(len(df_cl))\n",
    "    cat_fin = cat_fin.append(df_cl)\n",
    "    \n",
    "\n",
    "\n",
    "\n",
    "cat_fin_new = cat_fin[cat_fin.RID=='0'].copy()\n"
   ]
  },
  {
   "cell_type": "markdown",
   "metadata": {},
   "source": [
    "# Rename clusters from WS21 to match This Study"
   ]
  },
  {
   "cell_type": "code",
   "execution_count": 9,
   "metadata": {},
   "outputs": [],
   "source": [
    "\n",
    "\n",
    "cat_fin_WS = pd.DataFrame()\n",
    "for cl in np.unique(cat_fin_new.Cluster_2):\n",
    "    df_cl = cat_fin[cat_fin.Cluster_2==cl]\n",
    "    Rs = np.unique(df_cl.RID)\n",
    "    \n",
    "    for r in Rs:\n",
    "        df_R = cat_WS21[cat_WS21.RID==r]\n",
    "        \n",
    "        df_cl = df_cl.append(df_R)\n",
    "        \n",
    "    \n",
    "    df_cl.Cluster_2 = cl\n",
    "    \n",
    "    cat_fin_WS = cat_fin_WS.append(df_cl)\n",
    "    \n",
    "    "
   ]
  },
  {
   "cell_type": "markdown",
   "metadata": {},
   "source": [
    "# Save Catalog"
   ]
  },
  {
   "cell_type": "code",
   "execution_count": 60,
   "metadata": {},
   "outputs": [],
   "source": [
    "cat_fin.to_csv('../data/catalogs/combined_Catalog_expNum_BSG.csv')\n"
   ]
  },
  {
   "cell_type": "markdown",
   "metadata": {},
   "source": [
    "# Calc some catalog stats"
   ]
  },
  {
   "cell_type": "code",
   "execution_count": 65,
   "metadata": {},
   "outputs": [],
   "source": [
    "cat_fin['timestamp'] = pd.to_datetime(cat_fin[['year','month','day','hour','minute','second']])\n",
    "cat_fin['timestamp_index'] = pd.to_datetime(cat_fin[['year','month','day','hour','minute','second']])\n",
    "cat_fin.set_index('timestamp_index',inplace=True)\n",
    "\n",
    "cat_fin_stats = calcDfStats(cat_fin, timeMin=0, NCl=2)"
   ]
  },
  {
   "cell_type": "markdown",
   "metadata": {},
   "source": [
    "# Moment and recurrence interval, model is from Nadeau 1994 (?)"
   ]
  },
  {
   "cell_type": "code",
   "execution_count": 252,
   "metadata": {},
   "outputs": [
    {
     "data": {
      "image/png": "[encoded data removed]",
      "text/plain": [
       "<Figure size 432x288 with 1 Axes>"
      ]
     },
     "metadata": {
      "needs_background": "light"
     },
     "output_type": "display_data"
    }
   ],
   "source": [
    "ax = plt.gca()\n",
    "\n",
    "\n",
    "catt = cat_fin_stats[cat_fin_stats.time_diff_yr!=0]\n",
    "\n",
    "ax.scatter(catt.moment_avg,catt.time_mean_yr, s=2,color='r',alpha=.5)\n",
    "\n",
    "x = np.linspace(min(catt.moment_avg),max(catt.moment_avg),1000) \n",
    "y = .0025 * x ** .161 \n",
    "\n",
    "\n",
    "ax.plot(x,y,color='grey',linestyle='--')\n",
    "\n",
    "\n",
    "ax.set_xscale('log')\n",
    "ax.set_yscale('log')\n",
    "\n",
    "\n",
    "# ax.set_ylim(1e-1,1*10**2)\n",
    "# ax.set_xlim(1e17,1e21)"
   ]
  },
  {
   "cell_type": "markdown",
   "metadata": {},
   "source": [
    "# Save files formatted for HypoDD relocation "
   ]
  },
  {
   "cell_type": "code",
   "execution_count": 69,
   "metadata": {},
   "outputs": [],
   "source": [
    "pathCat = '../data/catalogs/'\n",
    "\n",
    "i = 0\n",
    "\n",
    "saveSelFile = 1\n",
    "\n",
    "\n",
    "for clus in np.unique(cat_fin_stats.Cluster_2):\n",
    "    \n",
    "    df_cl = cat_fin_stats[cat_fin_stats.Cluster_2==clus]\n",
    "    \n",
    "\n",
    "    clusterName = 'Rx.16.' + df_cl.Cluster_2.iloc[0]\n",
    "\n",
    "    if not os.path.exists(f\"{pathCat}/{clusterName}/\"):\n",
    "        os.makedirs(f\"{pathCat}/{clusterName}/\")    \n",
    "\n",
    "    ev_cat = pd.DataFrame(df_cl['event_ID'])\n",
    "\n",
    "    ev_cat['event_ID'] = [int(d) for d in ev_cat.event_ID]\n",
    "\n",
    "    ev_cat.set_index('event_ID',inplace=True)\n",
    "    \n",
    "    if saveSelFile:\n",
    "        ev_cat.to_csv(f\"{pathCat}/{clusterName}/events.select\",header=False)\n"
   ]
  },
  {
   "cell_type": "markdown",
   "metadata": {},
   "source": [
    "# Run HypoDD"
   ]
  },
  {
   "cell_type": "code",
   "execution_count": null,
   "metadata": {},
   "outputs": [],
   "source": [
    "### hypoDD.inp\n"
   ]
  },
  {
   "cell_type": "code",
   "execution_count": 7,
   "metadata": {},
   "outputs": [],
   "source": [
    "# # README\n",
    "\n",
    "# #---Relocate clusters of repeating events found by specufex using the \n",
    "# #   NCAeqDD.2021 data base: \n",
    "\n",
    "# #--- Create new directory for cluster to be relocated/tested: \n",
    "# #    Rx.0001, Rx.0002,...\n",
    "# mkdir Rx.0001\n",
    "# cd Rx.0001\n",
    "\n",
    "# #--- In that directory, create file 'events.select' with IDs of events to \n",
    "# #    be relocated, one ID per line per ID..\n",
    "\n",
    "# #--- Get all phase picks for the events:\n",
    "# ../src/sel_pha_id /data/hy71/felixw/NCSN/2021/data/picks/pha.sel events.select pha.sel\n",
    "\n",
    "# #--- Get all correlation delay times for the events:\n",
    "# ../src/run_sel_dt_id_fast_bin.sh; ./cmd\n",
    "\n",
    "# #--- Get all stations that recorded the events:\n",
    "# cat pha.sel dt.cc | sed \"/#/d\" | awk '{print $1}' | sort -u -k 1,1 >! sta\n",
    "# ../src/sel_sta sta /data/hy71/felixw/NCSN/2021/data/picks/sta.all sta.sel\n",
    "\n",
    "# #--- Generate pick delay times (dt.ct):\n",
    "# ../src/HYPODD/src/ph2dt/ph2dt ph2dt.inp\n",
    "\n",
    "# #--- Relocate:\n",
    "# ../src/HYPODD/src/hypoDD/hypoDD hypoDD.inp"
   ]
  },
  {
   "cell_type": "markdown",
   "metadata": {},
   "source": [
    "# Make relocated catalog\n",
    "\n",
    "~ Load hypoDD output files\n",
    "\n",
    "~ Remove M+/-.3\n"
   ]
  },
  {
   "cell_type": "code",
   "execution_count": 70,
   "metadata": {},
   "outputs": [],
   "source": [
    "listClust = [f\"{N:05d}\" for N in range(len(pd.unique(cat_fin_stats.Cluster_2)))]"
   ]
  },
  {
   "cell_type": "code",
   "execution_count": 72,
   "metadata": {},
   "outputs": [
    {
     "name": "stdout",
     "output_type": "stream",
     "text": [
      "1 clusters not relocated\n",
      "26 to 25\n",
      "43 to 42\n",
      "34 to 33\n",
      "9 to 8\n",
      "2 clusters not relocated\n",
      "43 to 42\n",
      "23 to 21\n"
     ]
    }
   ],
   "source": [
    "cols = ['event_ID', 'lat', 'long', 'depth_km', 'X', 'Y', 'Z', 'dX', 'dY', 'dZ', 'year','month','day','hour','minute','second',\\\n",
    "'magnitude', 'NCCP', 'NCCS', 'NCTP','NCTS', 'RCC', 'RCT', 'RID']\n",
    "reloc_cat = pd.DataFrame()\n",
    "err = 0 #count number of nonrelocated sequences\n",
    "listClust = [f\"{N:05d}\" for N in range(len(pd.unique(cat_fin_stats.Cluster_2)))]\n",
    "plot=0\n",
    "\n",
    "for clus in listClust:\n",
    "    try:\n",
    "\n",
    "        clusterName = 'Rx.0.' + clus\n",
    "\n",
    "        reloc_cat_temp = pd.read_csv(f\"{pathCat}/Rx16/{clusterName}/hypoDD.reloc\",sep=\"\\s+\",names=cols)\n",
    "        reloc_cat_temp.drop(index=reloc_cat_temp[reloc_cat_temp.dZ=='********'].index,inplace=True)\n",
    "\n",
    "\n",
    "\n",
    "        df_cl_CLus = cat_fin_stats[cat_fin_stats.event_ID==reloc_cat_temp.event_ID.iloc[0]].Cluster_2\n",
    "        df_cl = cat_fin_stats[cat_fin_stats.Cluster_2==df_cl_CLus.array[0]]\n",
    "\n",
    "\n",
    "\n",
    "        if len(df_cl)==len(reloc_cat_temp):\n",
    "            reloc_cat_temp['Cluster_2'] = [df_cl.Cluster_2.iloc[0] for i in range(len(reloc_cat_temp))]\n",
    "            reloc_cat_temp['RID'] = [r for r in df_cl['RID']]\n",
    "            reloc_cat_temp['NumStations'] = [r for r in df_cl['NumStations']]\n",
    "            reloc_cat_temp['CVr'] = [r for r in df_cl['CVr']]\n",
    "\n",
    "\n",
    "            reloc_cat_temp['timestamp_index'] = pd.to_datetime(reloc_cat_temp[['year','month','day','hour','minute','second']])\n",
    "            reloc_cat_temp = reloc_cat_temp.set_index('timestamp_index')\n",
    "\n",
    "            ###### PLOTPLOTPOLT\n",
    "            ###### PLOTPLOTPOLT\n",
    "            ###### PLOTPLOTPOLT\n",
    "            if plot:\n",
    "                fig = plt.figure(constrained_layout=True,figsize=(8,6))\n",
    "\n",
    "                gs = GridSpec(2, 3, figure=fig)\n",
    "                ax1 = fig.add_subplot(gs[0,0])\n",
    "                ax2 = fig.add_subplot(gs[0,1])\n",
    "                ax3 = fig.add_subplot(gs[0,2])\n",
    "\n",
    "                plotLocZoom5(reloc_cat_temp,reloc_cat_temp,fontsize=12,buff=.0015,ax=ax1)\n",
    "                plotDepthZoom8(reloc_cat_temp,reloc_cat_temp,fontsize=12,buff=.015,ax=ax2)\n",
    "\n",
    "                plotStem5(reloc_cat_temp,\n",
    "                    np.unique(cat_WS21_stats.RID),\n",
    "                    set(df_cl[df_cl.RID!='0'].RID),\n",
    "                    df_cl,\n",
    "                    fontsize=12,\n",
    "                    ax=ax3)  \n",
    "\n",
    "                ax2.set_title(f\"Cluster {cl}\")\n",
    "    #                 plt.savefig(f\"../reports/figures/relocated_20230307_7stations/{clusterName}.png\")\n",
    "\n",
    "            reloc_cat = reloc_cat.append(reloc_cat_temp)\n",
    "        else:\n",
    "            print(f\"{len(df_cl)} to {len(reloc_cat_temp)}\")\n",
    "    #         break\n",
    "            pass\n",
    "    except:\n",
    "        err +=1 \n",
    "        print(err, 'clusters not relocated')\n",
    "        pass\n"
   ]
  },
  {
   "cell_type": "code",
   "execution_count": 78,
   "metadata": {},
   "outputs": [],
   "source": [
    "\n",
    "reloc_cat.to_csv(pathCat + 'reloc_cat_final_Rx0_1Stations_20230325.csv') #7 stations\n",
    "\n"
   ]
  },
  {
   "cell_type": "code",
   "execution_count": 92,
   "metadata": {},
   "outputs": [],
   "source": []
  },
  {
   "cell_type": "code",
   "execution_count": null,
   "metadata": {},
   "outputs": [],
   "source": []
  },
  {
   "cell_type": "code",
   "execution_count": null,
   "metadata": {},
   "outputs": [],
   "source": []
  },
  {
   "cell_type": "code",
   "execution_count": null,
   "metadata": {},
   "outputs": [],
   "source": []
  }
 ],
 "metadata": {
  "kernelspec": {
   "display_name": "Python 3",
   "language": "python",
   "name": "python3"
  },
  "language_info": {
   "codemirror_mode": {
    "name": "ipython",
    "version": 3
   },
   "file_extension": ".py",
   "mimetype": "text/x-python",
   "name": "python",
   "nbconvert_exporter": "python",
   "pygments_lexer": "ipython3",
   "version": "3.7.8"
  }
 },
 "nbformat": 4,
 "nbformat_minor": 4
}
